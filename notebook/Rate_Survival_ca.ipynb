{
 "cells": [
  {
   "cell_type": "markdown",
   "id": "335f0b2e-8b45-4d00-9c65-9b949ddf0eb1",
   "metadata": {},
   "source": [
    "# Exploratory Data Analysis"
   ]
  },
  {
   "cell_type": "code",
   "execution_count": 1,
   "id": "1b76a9be-bacb-42f2-a124-10ba7c7aeaee",
   "metadata": {},
   "outputs": [],
   "source": [
    "from dateutil.relativedelta import relativedelta\n",
    "import matplotlib.pyplot as plt\n",
    "from datetime import datetime\n",
    "import seaborn as sns\n",
    "import pandas as pd\n",
    "import numpy as np\n",
    "import matplotlib\n",
    "import math\n",
    "import re"
   ]
  },
  {
   "cell_type": "markdown",
   "id": "4c4d2dac-b234-4e0a-b0a7-b38cea44f024",
   "metadata": {
    "tags": []
   },
   "source": [
    "## 1.- Read data"
   ]
  },
  {
   "cell_type": "code",
   "execution_count": 2,
   "id": "3663d64d-32aa-4f82-acd0-78e61403c1e5",
   "metadata": {},
   "outputs": [],
   "source": [
    "df_ca=pd.read_excel(\"patient_survival_ca_prostate_00-10.xlsx\", \n",
    "                    index_col=None,\n",
    "                    na_values= np.nan)"
   ]
  },
  {
   "cell_type": "markdown",
   "id": "0c4d8b48-9b58-4dd7-9fe3-7c1278cda1bc",
   "metadata": {},
   "source": [
    "To anonymize the database, the column containing the medical record number of all patients is removed. A new dataFarme is also created to assign each medical record to a number and, subsequently, to be able to trace each one."
   ]
  },
  {
   "cell_type": "code",
   "execution_count": 3,
   "id": "4e7ba781-d21b-4336-b1da-3e56756ba4e0",
   "metadata": {},
   "outputs": [],
   "source": [
    "df_final=df_ca.sort_values([\"F.Diagnóstico\"],ascending=True).reset_index()\n",
    "df_HCL=df_final[[\"index\",\"Num.HCL\"]]\n",
    "df_final.drop([\"Num.HCL\",\"Num_HCL\"], axis=1,inplace=True)"
   ]
  },
  {
   "cell_type": "markdown",
   "id": "4c8d0456-f347-4531-bd0a-8c98597ea632",
   "metadata": {},
   "source": [
    "## 2.- Data exploration"
   ]
  },
  {
   "cell_type": "code",
   "execution_count": 4,
   "id": "909671bb-3b28-4e1b-9d07-153378a9a11a",
   "metadata": {},
   "outputs": [],
   "source": [
    "pd.set_option('display.max_columns', 15)\n",
    "pd.set_option(\"max_colwidth\", 18)\n",
    "pd.set_option('display.max_rows', 22)"
   ]
  },
  {
   "cell_type": "code",
   "execution_count": 5,
   "id": "df70dd51-f8fb-41b5-8461-41f0e8086097",
   "metadata": {},
   "outputs": [
    {
     "data": {
      "text/html": [
       "<div>\n",
       "<style scoped>\n",
       "    .dataframe tbody tr th:only-of-type {\n",
       "        vertical-align: middle;\n",
       "    }\n",
       "\n",
       "    .dataframe tbody tr th {\n",
       "        vertical-align: top;\n",
       "    }\n",
       "\n",
       "    .dataframe thead th {\n",
       "        text-align: right;\n",
       "    }\n",
       "</style>\n",
       "<table border=\"1\" class=\"dataframe\">\n",
       "  <thead>\n",
       "    <tr style=\"text-align: right;\">\n",
       "      <th></th>\n",
       "      <th>index</th>\n",
       "      <th>Edad Diag.</th>\n",
       "      <th>Cod Diag</th>\n",
       "      <th>Diagnóstico</th>\n",
       "      <th>Cod Sitio</th>\n",
       "      <th>Sitio</th>\n",
       "      <th>SEER Estadio</th>\n",
       "      <th>...</th>\n",
       "      <th>Fec.Reg.Seguim.</th>\n",
       "      <th>Estado Vital</th>\n",
       "      <th>Clase Caso</th>\n",
       "      <th>Clase Caso.1</th>\n",
       "      <th>F. Pase Control</th>\n",
       "      <th>E.Tratam.</th>\n",
       "      <th>Estado Tratamiento</th>\n",
       "    </tr>\n",
       "  </thead>\n",
       "  <tbody>\n",
       "    <tr>\n",
       "      <th>0</th>\n",
       "      <td>0</td>\n",
       "      <td>59</td>\n",
       "      <td>81403</td>\n",
       "      <td>Adenocarcinoma...</td>\n",
       "      <td>C619</td>\n",
       "      <td>Glandula prost...</td>\n",
       "      <td>9</td>\n",
       "      <td>...</td>\n",
       "      <td>2017/01/27</td>\n",
       "      <td>Vivo</td>\n",
       "      <td>42</td>\n",
       "      <td>Dx fuera y sol...</td>\n",
       "      <td>2000/12/15</td>\n",
       "      <td>0</td>\n",
       "      <td>Caso completo</td>\n",
       "    </tr>\n",
       "    <tr>\n",
       "      <th>1</th>\n",
       "      <td>1</td>\n",
       "      <td>61</td>\n",
       "      <td>81403</td>\n",
       "      <td>Adenocarcinoma...</td>\n",
       "      <td>C619</td>\n",
       "      <td>Glandula prost...</td>\n",
       "      <td>7</td>\n",
       "      <td>...</td>\n",
       "      <td>2002/06/11</td>\n",
       "      <td>Muerto</td>\n",
       "      <td>32</td>\n",
       "      <td>Dx y TODO el T...</td>\n",
       "      <td>2001/04/20</td>\n",
       "      <td>0</td>\n",
       "      <td>Caso completo</td>\n",
       "    </tr>\n",
       "    <tr>\n",
       "      <th>2</th>\n",
       "      <td>2</td>\n",
       "      <td>74</td>\n",
       "      <td>81403</td>\n",
       "      <td>Adenocarcinoma...</td>\n",
       "      <td>C619</td>\n",
       "      <td>Glandula prost...</td>\n",
       "      <td>7</td>\n",
       "      <td>...</td>\n",
       "      <td>2012/03/07</td>\n",
       "      <td>Muerto</td>\n",
       "      <td>14</td>\n",
       "      <td>Dx y TODO el T...</td>\n",
       "      <td>2001/04/09</td>\n",
       "      <td>0</td>\n",
       "      <td>Caso completo</td>\n",
       "    </tr>\n",
       "    <tr>\n",
       "      <th>3</th>\n",
       "      <td>3</td>\n",
       "      <td>59</td>\n",
       "      <td>81403</td>\n",
       "      <td>Adenocarcinoma...</td>\n",
       "      <td>C619</td>\n",
       "      <td>Glandula prost...</td>\n",
       "      <td>3</td>\n",
       "      <td>...</td>\n",
       "      <td>2013/08/15</td>\n",
       "      <td>Vivo</td>\n",
       "      <td>14</td>\n",
       "      <td>Dx y TODO el T...</td>\n",
       "      <td>2000/05/08</td>\n",
       "      <td>0</td>\n",
       "      <td>Caso completo</td>\n",
       "    </tr>\n",
       "    <tr>\n",
       "      <th>4</th>\n",
       "      <td>4</td>\n",
       "      <td>62</td>\n",
       "      <td>81403</td>\n",
       "      <td>Adenocarcinoma...</td>\n",
       "      <td>C619</td>\n",
       "      <td>Glandula prost...</td>\n",
       "      <td>2</td>\n",
       "      <td>...</td>\n",
       "      <td>2013/06/04</td>\n",
       "      <td>Muerto</td>\n",
       "      <td>14</td>\n",
       "      <td>Dx y TODO el T...</td>\n",
       "      <td>2000/03/09</td>\n",
       "      <td>0</td>\n",
       "      <td>Caso completo</td>\n",
       "    </tr>\n",
       "  </tbody>\n",
       "</table>\n",
       "<p>5 rows × 52 columns</p>\n",
       "</div>"
      ],
      "text/plain": [
       "   index  Edad Diag.  Cod Diag        Diagnóstico Cod Sitio  \\\n",
       "0      0          59     81403  Adenocarcinoma...      C619   \n",
       "1      1          61     81403  Adenocarcinoma...      C619   \n",
       "2      2          74     81403  Adenocarcinoma...      C619   \n",
       "3      3          59     81403  Adenocarcinoma...      C619   \n",
       "4      4          62     81403  Adenocarcinoma...      C619   \n",
       "\n",
       "               Sitio  SEER Estadio  ... Fec.Reg.Seguim. Estado Vital  \\\n",
       "0  Glandula prost...             9  ...      2017/01/27         Vivo   \n",
       "1  Glandula prost...             7  ...      2002/06/11       Muerto   \n",
       "2  Glandula prost...             7  ...      2012/03/07       Muerto   \n",
       "3  Glandula prost...             3  ...      2013/08/15         Vivo   \n",
       "4  Glandula prost...             2  ...      2013/06/04       Muerto   \n",
       "\n",
       "  Clase Caso       Clase Caso.1 F. Pase Control E.Tratam. Estado Tratamiento  \n",
       "0         42  Dx fuera y sol...      2000/12/15         0      Caso completo  \n",
       "1         32  Dx y TODO el T...      2001/04/20         0      Caso completo  \n",
       "2         14  Dx y TODO el T...      2001/04/09         0      Caso completo  \n",
       "3         14  Dx y TODO el T...      2000/05/08         0      Caso completo  \n",
       "4         14  Dx y TODO el T...      2000/03/09         0      Caso completo  \n",
       "\n",
       "[5 rows x 52 columns]"
      ]
     },
     "execution_count": 5,
     "metadata": {},
     "output_type": "execute_result"
    }
   ],
   "source": [
    "df_final.head()"
   ]
  },
  {
   "cell_type": "code",
   "execution_count": 6,
   "id": "925fb909-c13e-4602-8a69-6a6ab8a3f362",
   "metadata": {},
   "outputs": [
    {
     "data": {
      "text/html": [
       "<div>\n",
       "<style scoped>\n",
       "    .dataframe tbody tr th:only-of-type {\n",
       "        vertical-align: middle;\n",
       "    }\n",
       "\n",
       "    .dataframe tbody tr th {\n",
       "        vertical-align: top;\n",
       "    }\n",
       "\n",
       "    .dataframe thead th {\n",
       "        text-align: right;\n",
       "    }\n",
       "</style>\n",
       "<table border=\"1\" class=\"dataframe\">\n",
       "  <thead>\n",
       "    <tr style=\"text-align: right;\">\n",
       "      <th></th>\n",
       "      <th>index</th>\n",
       "      <th>Edad Diag.</th>\n",
       "      <th>Cod Diag</th>\n",
       "      <th>Diagnóstico</th>\n",
       "      <th>Cod Sitio</th>\n",
       "      <th>Sitio</th>\n",
       "      <th>SEER Estadio</th>\n",
       "      <th>...</th>\n",
       "      <th>Fec.Reg.Seguim.</th>\n",
       "      <th>Estado Vital</th>\n",
       "      <th>Clase Caso</th>\n",
       "      <th>Clase Caso.1</th>\n",
       "      <th>F. Pase Control</th>\n",
       "      <th>E.Tratam.</th>\n",
       "      <th>Estado Tratamiento</th>\n",
       "    </tr>\n",
       "  </thead>\n",
       "  <tbody>\n",
       "    <tr>\n",
       "      <th>1634</th>\n",
       "      <td>1634</td>\n",
       "      <td>80</td>\n",
       "      <td>81403</td>\n",
       "      <td>Adenocarcinoma...</td>\n",
       "      <td>C619</td>\n",
       "      <td>Glandula prost...</td>\n",
       "      <td>9</td>\n",
       "      <td>...</td>\n",
       "      <td>2018/05/21</td>\n",
       "      <td>Vivo</td>\n",
       "      <td>22</td>\n",
       "      <td>Dx fuera y TOD...</td>\n",
       "      <td>2011/04/06</td>\n",
       "      <td>0</td>\n",
       "      <td>Caso completo</td>\n",
       "    </tr>\n",
       "    <tr>\n",
       "      <th>1635</th>\n",
       "      <td>1635</td>\n",
       "      <td>71</td>\n",
       "      <td>81403</td>\n",
       "      <td>Adenocarcinoma...</td>\n",
       "      <td>C619</td>\n",
       "      <td>Glandula prost...</td>\n",
       "      <td>1</td>\n",
       "      <td>...</td>\n",
       "      <td>2018/05/28</td>\n",
       "      <td>Vivo</td>\n",
       "      <td>22</td>\n",
       "      <td>Dx fuera y TOD...</td>\n",
       "      <td>2011/03/23</td>\n",
       "      <td>0</td>\n",
       "      <td>Caso completo</td>\n",
       "    </tr>\n",
       "    <tr>\n",
       "      <th>1636</th>\n",
       "      <td>1636</td>\n",
       "      <td>70</td>\n",
       "      <td>81403</td>\n",
       "      <td>Adenocarcinoma...</td>\n",
       "      <td>C619</td>\n",
       "      <td>Glandula prost...</td>\n",
       "      <td>7</td>\n",
       "      <td>...</td>\n",
       "      <td>2012/07/19</td>\n",
       "      <td>Muerto</td>\n",
       "      <td>14</td>\n",
       "      <td>Dx y TODO el T...</td>\n",
       "      <td>2011/03/01</td>\n",
       "      <td>0</td>\n",
       "      <td>Caso completo</td>\n",
       "    </tr>\n",
       "    <tr>\n",
       "      <th>1637</th>\n",
       "      <td>1637</td>\n",
       "      <td>61</td>\n",
       "      <td>81403</td>\n",
       "      <td>Adenocarcinoma...</td>\n",
       "      <td>C619</td>\n",
       "      <td>Glandula prost...</td>\n",
       "      <td>9</td>\n",
       "      <td>...</td>\n",
       "      <td>2018/05/16</td>\n",
       "      <td>Vivo</td>\n",
       "      <td>32</td>\n",
       "      <td>Dx y TODO el T...</td>\n",
       "      <td>2010/12/23</td>\n",
       "      <td>0</td>\n",
       "      <td>Caso completo</td>\n",
       "    </tr>\n",
       "    <tr>\n",
       "      <th>1638</th>\n",
       "      <td>1638</td>\n",
       "      <td>81</td>\n",
       "      <td>81403</td>\n",
       "      <td>Adenocarcinoma...</td>\n",
       "      <td>C619</td>\n",
       "      <td>Glandula prost...</td>\n",
       "      <td>7</td>\n",
       "      <td>...</td>\n",
       "      <td>2018/05/24</td>\n",
       "      <td>Muerto</td>\n",
       "      <td>22</td>\n",
       "      <td>Dx fuera y TOD...</td>\n",
       "      <td>2011/03/04</td>\n",
       "      <td>0</td>\n",
       "      <td>Caso completo</td>\n",
       "    </tr>\n",
       "  </tbody>\n",
       "</table>\n",
       "<p>5 rows × 52 columns</p>\n",
       "</div>"
      ],
      "text/plain": [
       "      index  Edad Diag.  Cod Diag        Diagnóstico Cod Sitio  \\\n",
       "1634   1634          80     81403  Adenocarcinoma...      C619   \n",
       "1635   1635          71     81403  Adenocarcinoma...      C619   \n",
       "1636   1636          70     81403  Adenocarcinoma...      C619   \n",
       "1637   1637          61     81403  Adenocarcinoma...      C619   \n",
       "1638   1638          81     81403  Adenocarcinoma...      C619   \n",
       "\n",
       "                  Sitio  SEER Estadio  ... Fec.Reg.Seguim. Estado Vital  \\\n",
       "1634  Glandula prost...             9  ...      2018/05/21         Vivo   \n",
       "1635  Glandula prost...             1  ...      2018/05/28         Vivo   \n",
       "1636  Glandula prost...             7  ...      2012/07/19       Muerto   \n",
       "1637  Glandula prost...             9  ...      2018/05/16         Vivo   \n",
       "1638  Glandula prost...             7  ...      2018/05/24       Muerto   \n",
       "\n",
       "     Clase Caso       Clase Caso.1 F. Pase Control E.Tratam.  \\\n",
       "1634         22  Dx fuera y TOD...      2011/04/06         0   \n",
       "1635         22  Dx fuera y TOD...      2011/03/23         0   \n",
       "1636         14  Dx y TODO el T...      2011/03/01         0   \n",
       "1637         32  Dx y TODO el T...      2010/12/23         0   \n",
       "1638         22  Dx fuera y TOD...      2011/03/04         0   \n",
       "\n",
       "     Estado Tratamiento  \n",
       "1634      Caso completo  \n",
       "1635      Caso completo  \n",
       "1636      Caso completo  \n",
       "1637      Caso completo  \n",
       "1638      Caso completo  \n",
       "\n",
       "[5 rows x 52 columns]"
      ]
     },
     "execution_count": 6,
     "metadata": {},
     "output_type": "execute_result"
    }
   ],
   "source": [
    "df_final.tail()"
   ]
  },
  {
   "cell_type": "code",
   "execution_count": 7,
   "id": "9ac2b63f-3095-4f86-a508-f309b61ed2ac",
   "metadata": {},
   "outputs": [
    {
     "data": {
      "text/html": [
       "<div>\n",
       "<style scoped>\n",
       "    .dataframe tbody tr th:only-of-type {\n",
       "        vertical-align: middle;\n",
       "    }\n",
       "\n",
       "    .dataframe tbody tr th {\n",
       "        vertical-align: top;\n",
       "    }\n",
       "\n",
       "    .dataframe thead th {\n",
       "        text-align: right;\n",
       "    }\n",
       "</style>\n",
       "<table border=\"1\" class=\"dataframe\">\n",
       "  <thead>\n",
       "    <tr style=\"text-align: right;\">\n",
       "      <th></th>\n",
       "      <th>index</th>\n",
       "      <th>Edad Diag.</th>\n",
       "      <th>Cod Diag</th>\n",
       "      <th>SEER Estadio</th>\n",
       "      <th>TIPO CX Sitio Primario</th>\n",
       "      <th>Ciclos o Gray  Recib.1</th>\n",
       "      <th>Tipo Rec.1</th>\n",
       "      <th>Tipo Rec.2</th>\n",
       "      <th>Clase Caso</th>\n",
       "      <th>E.Tratam.</th>\n",
       "    </tr>\n",
       "  </thead>\n",
       "  <tbody>\n",
       "    <tr>\n",
       "      <th>count</th>\n",
       "      <td>1639.000000</td>\n",
       "      <td>1639.000000</td>\n",
       "      <td>1639.000000</td>\n",
       "      <td>1639.000000</td>\n",
       "      <td>267.000000</td>\n",
       "      <td>326.000000</td>\n",
       "      <td>1639.000000</td>\n",
       "      <td>1639.000000</td>\n",
       "      <td>1639.000000</td>\n",
       "      <td>1639.000000</td>\n",
       "    </tr>\n",
       "    <tr>\n",
       "      <th>mean</th>\n",
       "      <td>819.000000</td>\n",
       "      <td>69.472849</td>\n",
       "      <td>81474.109823</td>\n",
       "      <td>5.082367</td>\n",
       "      <td>48.696629</td>\n",
       "      <td>68.644172</td>\n",
       "      <td>62.370958</td>\n",
       "      <td>838.461257</td>\n",
       "      <td>22.038438</td>\n",
       "      <td>0.768761</td>\n",
       "    </tr>\n",
       "    <tr>\n",
       "      <th>std</th>\n",
       "      <td>473.282861</td>\n",
       "      <td>8.768998</td>\n",
       "      <td>674.772300</td>\n",
       "      <td>3.323969</td>\n",
       "      <td>10.529305</td>\n",
       "      <td>8.998257</td>\n",
       "      <td>81.952525</td>\n",
       "      <td>199.876402</td>\n",
       "      <td>9.756766</td>\n",
       "      <td>19.205771</td>\n",
       "    </tr>\n",
       "    <tr>\n",
       "      <th>min</th>\n",
       "      <td>0.000000</td>\n",
       "      <td>35.000000</td>\n",
       "      <td>80003.000000</td>\n",
       "      <td>0.000000</td>\n",
       "      <td>5.000000</td>\n",
       "      <td>12.000000</td>\n",
       "      <td>0.000000</td>\n",
       "      <td>10.000000</td>\n",
       "      <td>0.000000</td>\n",
       "      <td>0.000000</td>\n",
       "    </tr>\n",
       "    <tr>\n",
       "      <th>25%</th>\n",
       "      <td>409.500000</td>\n",
       "      <td>63.000000</td>\n",
       "      <td>81403.000000</td>\n",
       "      <td>2.000000</td>\n",
       "      <td>50.000000</td>\n",
       "      <td>70.000000</td>\n",
       "      <td>10.000000</td>\n",
       "      <td>888.000000</td>\n",
       "      <td>14.000000</td>\n",
       "      <td>0.000000</td>\n",
       "    </tr>\n",
       "    <tr>\n",
       "      <th>50%</th>\n",
       "      <td>819.000000</td>\n",
       "      <td>70.000000</td>\n",
       "      <td>81403.000000</td>\n",
       "      <td>7.000000</td>\n",
       "      <td>50.000000</td>\n",
       "      <td>70.000000</td>\n",
       "      <td>70.000000</td>\n",
       "      <td>888.000000</td>\n",
       "      <td>22.000000</td>\n",
       "      <td>0.000000</td>\n",
       "    </tr>\n",
       "    <tr>\n",
       "      <th>75%</th>\n",
       "      <td>1228.500000</td>\n",
       "      <td>76.000000</td>\n",
       "      <td>81403.000000</td>\n",
       "      <td>9.000000</td>\n",
       "      <td>50.000000</td>\n",
       "      <td>70.000000</td>\n",
       "      <td>99.000000</td>\n",
       "      <td>888.000000</td>\n",
       "      <td>22.000000</td>\n",
       "      <td>0.000000</td>\n",
       "    </tr>\n",
       "    <tr>\n",
       "      <th>max</th>\n",
       "      <td>1638.000000</td>\n",
       "      <td>96.000000</td>\n",
       "      <td>96803.000000</td>\n",
       "      <td>9.000000</td>\n",
       "      <td>99.000000</td>\n",
       "      <td>120.000000</td>\n",
       "      <td>888.000000</td>\n",
       "      <td>888.000000</td>\n",
       "      <td>99.000000</td>\n",
       "      <td>777.000000</td>\n",
       "    </tr>\n",
       "  </tbody>\n",
       "</table>\n",
       "</div>"
      ],
      "text/plain": [
       "             index   Edad Diag.      Cod Diag  SEER Estadio  \\\n",
       "count  1639.000000  1639.000000   1639.000000   1639.000000   \n",
       "mean    819.000000    69.472849  81474.109823      5.082367   \n",
       "std     473.282861     8.768998    674.772300      3.323969   \n",
       "min       0.000000    35.000000  80003.000000      0.000000   \n",
       "25%     409.500000    63.000000  81403.000000      2.000000   \n",
       "50%     819.000000    70.000000  81403.000000      7.000000   \n",
       "75%    1228.500000    76.000000  81403.000000      9.000000   \n",
       "max    1638.000000    96.000000  96803.000000      9.000000   \n",
       "\n",
       "       TIPO CX Sitio Primario  Ciclos o Gray  Recib.1   Tipo Rec.1  \\\n",
       "count         267.000000              326.000000       1639.000000   \n",
       "mean           48.696629               68.644172         62.370958   \n",
       "std            10.529305                8.998257         81.952525   \n",
       "min             5.000000               12.000000          0.000000   \n",
       "25%            50.000000               70.000000         10.000000   \n",
       "50%            50.000000               70.000000         70.000000   \n",
       "75%            50.000000               70.000000         99.000000   \n",
       "max            99.000000              120.000000        888.000000   \n",
       "\n",
       "        Tipo Rec.2   Clase Caso    E.Tratam.  \n",
       "count  1639.000000  1639.000000  1639.000000  \n",
       "mean    838.461257    22.038438     0.768761  \n",
       "std     199.876402     9.756766    19.205771  \n",
       "min      10.000000     0.000000     0.000000  \n",
       "25%     888.000000    14.000000     0.000000  \n",
       "50%     888.000000    22.000000     0.000000  \n",
       "75%     888.000000    22.000000     0.000000  \n",
       "max     888.000000    99.000000   777.000000  "
      ]
     },
     "execution_count": 7,
     "metadata": {},
     "output_type": "execute_result"
    }
   ],
   "source": [
    "df_final.describe()"
   ]
  },
  {
   "cell_type": "code",
   "execution_count": 8,
   "id": "a558552b-8180-44bf-998b-da2b60d1626a",
   "metadata": {},
   "outputs": [
    {
     "name": "stdout",
     "output_type": "stream",
     "text": [
      "<class 'pandas.core.frame.DataFrame'>\n",
      "RangeIndex: 1639 entries, 0 to 1638\n",
      "Data columns (total 52 columns):\n",
      " #   Column                      Non-Null Count  Dtype  \n",
      "---  ------                      --------------  -----  \n",
      " 0   index                       1639 non-null   int64  \n",
      " 1   Edad Diag.                  1639 non-null   int64  \n",
      " 2   Cod Diag                    1639 non-null   int64  \n",
      " 3   Diagnóstico                 1639 non-null   object \n",
      " 4   Cod Sitio                   1639 non-null   object \n",
      " 5   Sitio                       1639 non-null   object \n",
      " 6   SEER Estadio                1639 non-null   int64  \n",
      " 7   SEER Estadio.1              1639 non-null   object \n",
      " 8   TNM Estadio RH              1639 non-null   object \n",
      " 9   Otra Extensión              1639 non-null   object \n",
      " 10  F.Diagnóstico               1639 non-null   object \n",
      " 11  Tto.afuera                  282 non-null    object \n",
      " 12  F.Tto.afuera                342 non-null    object \n",
      " 13  Ttto no curativos           419 non-null    object \n",
      " 14  F.Ttto no curat             421 non-null    object \n",
      " 15  Fecha 1erTto. - Razón       806 non-null    object \n",
      " 16  F.Aband.Tto                 217 non-null    object \n",
      " 17  Fecha CIRUGIA               277 non-null    object \n",
      " 18  Razón PARA NO CX            277 non-null    object \n",
      " 19  TIPO CX Sitio Primario      267 non-null    float64\n",
      " 20  fecha SIN TTO CLINICO       993 non-null    object \n",
      " 21  razon PARA SIN TTO CLINICO  993 non-null    object \n",
      " 22  Tipo RADIOTERAPIA           328 non-null    object \n",
      " 23  Fecha RT                    340 non-null    object \n",
      " 24  Razón PARA NO RT            340 non-null    object \n",
      " 25  Ciclos o Gray  Recib.1      326 non-null    float64\n",
      " 26  Fecha HORMONOTERAPIA        129 non-null    object \n",
      " 27  Razón PARA NO HT            129 non-null    object \n",
      " 28  Fecha ORQUIECTOMIA          235 non-null    object \n",
      " 29  Razón PARA NO ORQUIECTOMIA  235 non-null    object \n",
      " 30  Tipo OTROS TTOS             7 non-null      object \n",
      " 31  Fecha OTROS TTOS            7 non-null      object \n",
      " 32  Razón PARA NO OTROS TTOS    7 non-null      object \n",
      " 33  Metast.A Rec.               1639 non-null   object \n",
      " 34  Metast.B Rec.               1639 non-null   object \n",
      " 35  Metast.C Rec.               1639 non-null   object \n",
      " 36  Tipo Rec.1                  1639 non-null   int64  \n",
      " 37  Tipo Rec.2                  1639 non-null   int64  \n",
      " 38  F.Recurrencia               1182 non-null   object \n",
      " 39  F.Tto Recurrencia           418 non-null    object \n",
      " 40  Tipos Tto Recurrencia       976 non-null    object \n",
      " 41  Fecha Defun.                871 non-null    object \n",
      " 42  C.Defun.                    1639 non-null   object \n",
      " 43  Causa Defunción             870 non-null    object \n",
      " 44  Fec.Ult.Contacto            1639 non-null   object \n",
      " 45  Fec.Reg.Seguim.             1639 non-null   object \n",
      " 46  Estado Vital                1639 non-null   object \n",
      " 47  Clase Caso                  1639 non-null   int64  \n",
      " 48  Clase Caso.1                1639 non-null   object \n",
      " 49  F. Pase Control             1624 non-null   object \n",
      " 50  E.Tratam.                   1639 non-null   int64  \n",
      " 51  Estado Tratamiento          1639 non-null   object \n",
      "dtypes: float64(2), int64(8), object(42)\n",
      "memory usage: 666.0+ KB\n"
     ]
    }
   ],
   "source": [
    "df_final.info()"
   ]
  },
  {
   "cell_type": "code",
   "execution_count": 9,
   "id": "2f7f61bf-3ec1-4fb7-b91a-da1b9239a487",
   "metadata": {},
   "outputs": [
    {
     "data": {
      "text/plain": [
       "Tto.afuera               1357\n",
       "F.Tto.afuera             1297\n",
       "Ttto no curativos        1220\n",
       "F.Ttto no curat          1218\n",
       "Fecha 1erTto. - Razón     833\n",
       "                         ... \n",
       "F.Tto Recurrencia        1221\n",
       "Tipos Tto Recurrencia     663\n",
       "Fecha Defun.              768\n",
       "Causa Defunción           769\n",
       "F. Pase Control            15\n",
       "Length: 28, dtype: int64"
      ]
     },
     "execution_count": 9,
     "metadata": {},
     "output_type": "execute_result"
    }
   ],
   "source": [
    "df_final.isnull().sum()[df_final.isnull().sum() !=0]"
   ]
  },
  {
   "cell_type": "code",
   "execution_count": 10,
   "id": "2ca898af-a0df-4558-b3d9-58c6eacf69e8",
   "metadata": {},
   "outputs": [
    {
     "data": {
      "text/html": [
       "<div>\n",
       "<style scoped>\n",
       "    .dataframe tbody tr th:only-of-type {\n",
       "        vertical-align: middle;\n",
       "    }\n",
       "\n",
       "    .dataframe tbody tr th {\n",
       "        vertical-align: top;\n",
       "    }\n",
       "\n",
       "    .dataframe thead th {\n",
       "        text-align: right;\n",
       "    }\n",
       "</style>\n",
       "<table border=\"1\" class=\"dataframe\">\n",
       "  <thead>\n",
       "    <tr style=\"text-align: right;\">\n",
       "      <th></th>\n",
       "      <th>Count</th>\n",
       "      <th>Percentage</th>\n",
       "    </tr>\n",
       "    <tr>\n",
       "      <th>Diagnóstico</th>\n",
       "      <th></th>\n",
       "      <th></th>\n",
       "    </tr>\n",
       "  </thead>\n",
       "  <tbody>\n",
       "    <tr>\n",
       "      <th>Adenocarcinoma  SAI</th>\n",
       "      <td>1591</td>\n",
       "      <td>97.071385</td>\n",
       "    </tr>\n",
       "    <tr>\n",
       "      <th>Carcinoma de cel.acinosas</th>\n",
       "      <td>25</td>\n",
       "      <td>1.525320</td>\n",
       "    </tr>\n",
       "    <tr>\n",
       "      <th>Neo. maligna</th>\n",
       "      <td>7</td>\n",
       "      <td>0.427090</td>\n",
       "    </tr>\n",
       "    <tr>\n",
       "      <th>Adenocar.tubular</th>\n",
       "      <td>2</td>\n",
       "      <td>0.122026</td>\n",
       "    </tr>\n",
       "    <tr>\n",
       "      <th>Ca.de cel.transicionales SAI</th>\n",
       "      <td>2</td>\n",
       "      <td>0.122026</td>\n",
       "    </tr>\n",
       "    <tr>\n",
       "      <th>Carcinoma  SAI</th>\n",
       "      <td>2</td>\n",
       "      <td>0.122026</td>\n",
       "    </tr>\n",
       "    <tr>\n",
       "      <th>Carcinoma indiferenciado SAI</th>\n",
       "      <td>2</td>\n",
       "      <td>0.122026</td>\n",
       "    </tr>\n",
       "    <tr>\n",
       "      <th>Carcinoma neuroendocrino SAI</th>\n",
       "      <td>2</td>\n",
       "      <td>0.122026</td>\n",
       "    </tr>\n",
       "    <tr>\n",
       "      <th>Adenocar. mucinoso</th>\n",
       "      <td>1</td>\n",
       "      <td>0.061013</td>\n",
       "    </tr>\n",
       "    <tr>\n",
       "      <th>Adenocarcinoma .de cel. claras  SAI</th>\n",
       "      <td>1</td>\n",
       "      <td>0.061013</td>\n",
       "    </tr>\n",
       "    <tr>\n",
       "      <th>Carcinoma de cel.pequenas SAI  Neuroendocrino</th>\n",
       "      <td>1</td>\n",
       "      <td>0.061013</td>\n",
       "    </tr>\n",
       "    <tr>\n",
       "      <th>Carcinoma in situ SAI</th>\n",
       "      <td>1</td>\n",
       "      <td>0.061013</td>\n",
       "    </tr>\n",
       "    <tr>\n",
       "      <th>Leiomiosarcoma  SAI</th>\n",
       "      <td>1</td>\n",
       "      <td>0.061013</td>\n",
       "    </tr>\n",
       "    <tr>\n",
       "      <th>Linfoma maglino  cels B grandes difuso SAI</th>\n",
       "      <td>1</td>\n",
       "      <td>0.061013</td>\n",
       "    </tr>\n",
       "  </tbody>\n",
       "</table>\n",
       "</div>"
      ],
      "text/plain": [
       "                    Count  Percentage\n",
       "Diagnóstico                          \n",
       "Adenocarcinoma ...   1591   97.071385\n",
       "Carcinoma de ce...     25    1.525320\n",
       "Neo. maligna            7    0.427090\n",
       "Adenocar.tubular        2    0.122026\n",
       "Ca.de cel.trans...      2    0.122026\n",
       "Carcinoma  SAI          2    0.122026\n",
       "Carcinoma indif...      2    0.122026\n",
       "Carcinoma neuro...      2    0.122026\n",
       "Adenocar. mucinoso      1    0.061013\n",
       "Adenocarcinoma ...      1    0.061013\n",
       "Carcinoma de ce...      1    0.061013\n",
       "Carcinoma in si...      1    0.061013\n",
       "Leiomiosarcoma ...      1    0.061013\n",
       "Linfoma maglino...      1    0.061013"
      ]
     },
     "execution_count": 10,
     "metadata": {},
     "output_type": "execute_result"
    }
   ],
   "source": [
    "df_final.groupby(['Diagnóstico']).count()\\\n",
    "                           .assign(Count=lambda dataset:dataset['Edad Diag.'],\n",
    "                                   Percentage=lambda dataset:dataset['Edad Diag.']*100/dataset['Edad Diag.'].sum(),\n",
    "                                  )[[\"Count\",\"Percentage\"]].sort_values(\"Count\",ascending=False)"
   ]
  },
  {
   "cell_type": "markdown",
   "id": "2df0bef2-8c20-4c58-8181-2a2ff1e2ed8d",
   "metadata": {
    "tags": []
   },
   "source": [
    "## 3.- Data cleaning"
   ]
  },
  {
   "cell_type": "markdown",
   "id": "294acb77-7dca-46f1-846b-cf014c965e12",
   "metadata": {},
   "source": [
    "Because a review of the survival rate is to be performed, columns that are not necessary are eliminated."
   ]
  },
  {
   "cell_type": "code",
   "execution_count": 11,
   "id": "d87fc56d-c60d-4727-af23-145dc3d49fb0",
   "metadata": {},
   "outputs": [],
   "source": [
    "delete_keys=['Cod Diag','Cod Sitio','Sitio','F.Ttto no curat',\n",
    "             'Razón PARA NO CX', 'TIPO CX Sitio Primario',\n",
    "             'fecha SIN TTO CLINICO','Razón PARA NO RT',\n",
    "             'Razón PARA NO HT','Tipo OTROS TTOS','Razón PARA NO ORQUIECTOMIA',\n",
    "             'Fecha OTROS TTOS', 'Razón PARA NO OTROS TTOS',\n",
    "             'Metast.B Rec.', 'Metast.C Rec.','C.Defun.',\n",
    "             'Clase Caso','Clase Caso.1','Num_HCL','Otra Extensión']\n",
    "\n",
    "target_keys=[item for item in df_final.keys() if item not in delete_keys]\n",
    "df_final=df_final[target_keys]"
   ]
  },
  {
   "cell_type": "code",
   "execution_count": 12,
   "id": "a87d8723-87de-438e-b715-08dd64c04455",
   "metadata": {},
   "outputs": [
    {
     "data": {
      "text/html": [
       "<div>\n",
       "<style scoped>\n",
       "    .dataframe tbody tr th:only-of-type {\n",
       "        vertical-align: middle;\n",
       "    }\n",
       "\n",
       "    .dataframe tbody tr th {\n",
       "        vertical-align: top;\n",
       "    }\n",
       "\n",
       "    .dataframe thead th {\n",
       "        text-align: right;\n",
       "    }\n",
       "</style>\n",
       "<table border=\"1\" class=\"dataframe\">\n",
       "  <thead>\n",
       "    <tr style=\"text-align: right;\">\n",
       "      <th></th>\n",
       "      <th>index</th>\n",
       "      <th>Edad Diag.</th>\n",
       "      <th>Diagnóstico</th>\n",
       "      <th>SEER Estadio</th>\n",
       "      <th>SEER Estadio.1</th>\n",
       "      <th>TNM Estadio RH</th>\n",
       "      <th>F.Diagnóstico</th>\n",
       "      <th>...</th>\n",
       "      <th>Causa Defunción</th>\n",
       "      <th>Fec.Ult.Contacto</th>\n",
       "      <th>Fec.Reg.Seguim.</th>\n",
       "      <th>Estado Vital</th>\n",
       "      <th>F. Pase Control</th>\n",
       "      <th>E.Tratam.</th>\n",
       "      <th>Estado Tratamiento</th>\n",
       "    </tr>\n",
       "  </thead>\n",
       "  <tbody>\n",
       "    <tr>\n",
       "      <th>0</th>\n",
       "      <td>0</td>\n",
       "      <td>59</td>\n",
       "      <td>Adenocarcinoma...</td>\n",
       "      <td>9</td>\n",
       "      <td>No estadificad...</td>\n",
       "      <td>T777; N777; M7...</td>\n",
       "      <td>2000/01/02</td>\n",
       "      <td>...</td>\n",
       "      <td>NaN</td>\n",
       "      <td>2014/06/16</td>\n",
       "      <td>2017/01/27</td>\n",
       "      <td>Vivo</td>\n",
       "      <td>2000/12/15</td>\n",
       "      <td>0</td>\n",
       "      <td>Caso completo</td>\n",
       "    </tr>\n",
       "    <tr>\n",
       "      <th>1</th>\n",
       "      <td>1</td>\n",
       "      <td>61</td>\n",
       "      <td>Adenocarcinoma...</td>\n",
       "      <td>7</td>\n",
       "      <td>Metastasis dis...</td>\n",
       "      <td>T777; N777; M7...</td>\n",
       "      <td>2000/01/04</td>\n",
       "      <td>...</td>\n",
       "      <td>Tumor maligno ...</td>\n",
       "      <td>2001/04/20</td>\n",
       "      <td>2002/06/11</td>\n",
       "      <td>Muerto</td>\n",
       "      <td>2001/04/20</td>\n",
       "      <td>0</td>\n",
       "      <td>Caso completo</td>\n",
       "    </tr>\n",
       "    <tr>\n",
       "      <th>2</th>\n",
       "      <td>2</td>\n",
       "      <td>74</td>\n",
       "      <td>Adenocarcinoma...</td>\n",
       "      <td>7</td>\n",
       "      <td>Metastasis dis...</td>\n",
       "      <td>TX; NX; MX; EIV</td>\n",
       "      <td>2000/01/05</td>\n",
       "      <td>...</td>\n",
       "      <td>Enfermedades d...</td>\n",
       "      <td>2010/07/15</td>\n",
       "      <td>2012/03/07</td>\n",
       "      <td>Muerto</td>\n",
       "      <td>2001/04/09</td>\n",
       "      <td>0</td>\n",
       "      <td>Caso completo</td>\n",
       "    </tr>\n",
       "    <tr>\n",
       "      <th>3</th>\n",
       "      <td>3</td>\n",
       "      <td>59</td>\n",
       "      <td>Adenocarcinoma...</td>\n",
       "      <td>3</td>\n",
       "      <td>Regional A Los...</td>\n",
       "      <td>T777; N777; M7...</td>\n",
       "      <td>2000/01/05</td>\n",
       "      <td>...</td>\n",
       "      <td>NaN</td>\n",
       "      <td>2011/08/09</td>\n",
       "      <td>2013/08/15</td>\n",
       "      <td>Vivo</td>\n",
       "      <td>2000/05/08</td>\n",
       "      <td>0</td>\n",
       "      <td>Caso completo</td>\n",
       "    </tr>\n",
       "    <tr>\n",
       "      <th>4</th>\n",
       "      <td>4</td>\n",
       "      <td>62</td>\n",
       "      <td>Adenocarcinoma...</td>\n",
       "      <td>2</td>\n",
       "      <td>Regional Por E...</td>\n",
       "      <td>TX; NX; MX; EIV</td>\n",
       "      <td>2000/01/13</td>\n",
       "      <td>...</td>\n",
       "      <td>Sintomas/ sign...</td>\n",
       "      <td>2002/12/12</td>\n",
       "      <td>2013/06/04</td>\n",
       "      <td>Muerto</td>\n",
       "      <td>2000/03/09</td>\n",
       "      <td>0</td>\n",
       "      <td>Caso completo</td>\n",
       "    </tr>\n",
       "  </tbody>\n",
       "</table>\n",
       "<p>5 rows × 33 columns</p>\n",
       "</div>"
      ],
      "text/plain": [
       "   index  Edad Diag.        Diagnóstico  SEER Estadio     SEER Estadio.1  \\\n",
       "0      0          59  Adenocarcinoma...             9  No estadificad...   \n",
       "1      1          61  Adenocarcinoma...             7  Metastasis dis...   \n",
       "2      2          74  Adenocarcinoma...             7  Metastasis dis...   \n",
       "3      3          59  Adenocarcinoma...             3  Regional A Los...   \n",
       "4      4          62  Adenocarcinoma...             2  Regional Por E...   \n",
       "\n",
       "      TNM Estadio RH F.Diagnóstico  ...    Causa Defunción Fec.Ult.Contacto  \\\n",
       "0  T777; N777; M7...    2000/01/02  ...                NaN       2014/06/16   \n",
       "1  T777; N777; M7...    2000/01/04  ...  Tumor maligno ...       2001/04/20   \n",
       "2    TX; NX; MX; EIV    2000/01/05  ...  Enfermedades d...       2010/07/15   \n",
       "3  T777; N777; M7...    2000/01/05  ...                NaN       2011/08/09   \n",
       "4    TX; NX; MX; EIV    2000/01/13  ...  Sintomas/ sign...       2002/12/12   \n",
       "\n",
       "  Fec.Reg.Seguim. Estado Vital F. Pase Control E.Tratam. Estado Tratamiento  \n",
       "0      2017/01/27         Vivo      2000/12/15         0      Caso completo  \n",
       "1      2002/06/11       Muerto      2001/04/20         0      Caso completo  \n",
       "2      2012/03/07       Muerto      2001/04/09         0      Caso completo  \n",
       "3      2013/08/15         Vivo      2000/05/08         0      Caso completo  \n",
       "4      2013/06/04       Muerto      2000/03/09         0      Caso completo  \n",
       "\n",
       "[5 rows x 33 columns]"
      ]
     },
     "execution_count": 12,
     "metadata": {},
     "output_type": "execute_result"
    }
   ],
   "source": [
    "df_final.head()"
   ]
  },
  {
   "cell_type": "markdown",
   "id": "db8fa2dd-b136-4fab-a59d-286a9500d1c1",
   "metadata": {},
   "source": [
    "Now, the names of variables (columns) whose format makes correct data manipulation impossible are changed."
   ]
  },
  {
   "cell_type": "code",
   "execution_count": 13,
   "id": "76703552-f8bc-4c13-82e6-7c8cebeeeaff",
   "metadata": {},
   "outputs": [],
   "source": [
    "df_final=df_final.rename(columns={'Edad Diag.':'Edad_diag',\n",
    "                                  'SEER Estadio':'Cod_SEER_Estadio',\n",
    "                                  'SEER Estadio.1':'SEER_Estadio',\n",
    "                                  'Diagnóstico': 'Diagnostico',\n",
    "                                  'TNM Estadio RH':'TNM_Estadio_RH',\n",
    "                                  'F.Diagnóstico':'Fecha_Diag',\n",
    "                                  'Tto.afuera':'Tto_afuera',\n",
    "                                  'F.Tto.afuera':'Fecha_Tto_afuera',\n",
    "                                  'Ttto no curativos':'Ttto_paliativo',\n",
    "                                  'Fecha 1erTto. - Razón':'Tto_1',\n",
    "                                  'F.Aband.Tto':'Fecha_Aband_Tto',\n",
    "                                  'Fecha CIRUGIA':'Fecha_CX',\n",
    "                                  'razon PARA SIN TTO CLINICO':'Muere_antes_Tto',\n",
    "                                  'Tipo RADIOTERAPIA':'Radioterapia',\n",
    "                                  'Fecha RT':'Fecha_RT',\n",
    "                                  'Ciclos o Gray  Recib.1':'Dosis_Recib',\n",
    "                                  'Fecha HORMONOTERAPIA':'Fecha_HT',\n",
    "                                  'Fecha ORQUIECTOMIA':'Fecha_orquiectomia',\n",
    "                                  'Metast.A Rec.':'Metastasis', \n",
    "                                  'Tipo Rec.1':'Tipo_Rec_1',\n",
    "                                  'Tipo Rec.2':'Tipo_Rec_2',\n",
    "                                  'F.Recurrencia':'Fecha_Rec',\n",
    "                                  'F.Tto Recurrencia':'Fecha_Tto_Rec',\n",
    "                                  'Tipos Tto Recurrencia':'Tipos_Tto_Rec',\n",
    "                                  'Fecha Defun.':'Fecha_Defun',\n",
    "                                  'Causa Defunción':'Causa_Defuncion',\n",
    "                                  'Fec.Ult.Contacto':'Fecha_Ult_Contacto',\n",
    "                                  'Fec.Reg.Seguim.':'Fecha_Reg_Seguim',\n",
    "                                  'Estado Vital':'Estado_Vital',\n",
    "                                  'F. Pase Control':'Fecha_Pase_Control',\n",
    "                                  'E.Tratam.':'Cod_Estado_Tratam',\n",
    "                                  'Estado Tratamiento':'Estado_Tratamiento'})"
   ]
  },
  {
   "cell_type": "markdown",
   "id": "2d558c0b-9d88-402c-a8f0-0dad9c40884a",
   "metadata": {},
   "source": [
    "In order to be able to manipulate the data through dataframe.assign(), the \"na\" values are replaced with dataframe.fillna() by a blank space (\"\")."
   ]
  },
  {
   "cell_type": "code",
   "execution_count": 14,
   "id": "d0c530f6-c0f6-47cd-988a-b31e70cc6c00",
   "metadata": {},
   "outputs": [],
   "source": [
    "df_final=df_final.fillna(\"\")"
   ]
  },
  {
   "cell_type": "markdown",
   "id": "775821d3-c15f-4cc2-8157-571c09bff2e5",
   "metadata": {},
   "source": [
    "Continuing with the cleaning we notice that there are 4 variables contained in one (\"TNM_Estadio_RH\"), which are in string format, so this string is divided with str.split() considering \";\" as separator.The value of each is stored in a new variable. Finally, the column \"TNM_State_RH\" is deleted."
   ]
  },
  {
   "cell_type": "code",
   "execution_count": 15,
   "id": "ae14864a-c328-4e2b-b6f5-e3bc6a8c8565",
   "metadata": {},
   "outputs": [],
   "source": [
    "dp=df_final.assign(T=lambda dataset:dataset[\"TNM_Estadio_RH\"]\\\n",
    "                                 .apply(lambda row:row.split(sep=';')[0]\\\n",
    "                                 .split(sep='T')[1]),\n",
    "                   N=lambda dataset:dataset[\"TNM_Estadio_RH\"]\\\n",
    "                                 .apply(lambda row:row.split(sep=';')[1]\\\n",
    "                                 .split(sep='N')[1]),\n",
    "                   M=lambda dataset:dataset[\"TNM_Estadio_RH\"]\\\n",
    "                                 .apply(lambda row:row.split(sep=';')[2]\\\n",
    "                                 .split(sep='M')[1]),\n",
    "                   E=lambda dataset:dataset[\"TNM_Estadio_RH\"]\\\n",
    "                                 .apply(lambda row:row.split(sep=';')[3]\\\n",
    "                                 .split(sep='E')[1])\n",
    "                  ).drop([\"TNM_Estadio_RH\"], axis=1)"
   ]
  },
  {
   "cell_type": "markdown",
   "id": "f6a6d648-5dee-45f7-beec-c130368c17ac",
   "metadata": {},
   "source": [
    "Now, there is also the variables \"Tto_afuera\" and \"Tipos_Tto_Rec\" which has several variables contained in it. TThese variables will be created as dummy variables to represent their presence or absence."
   ]
  },
  {
   "cell_type": "code",
   "execution_count": 16,
   "id": "c0dbc4b9-e61c-44ee-84b4-ee97455038a7",
   "metadata": {},
   "outputs": [],
   "source": [
    "dp=dp.assign(CX_fuera=lambda dataset:dataset[\"Tto_afuera\"]\\\n",
    "                                     .apply(lambda row:1 if re.search('CX',row)\\\n",
    "                                                       else 0),\n",
    "             HT_fuera=lambda dataset:dataset[\"Tto_afuera\"]\\\n",
    "                                     .apply(lambda row:1 if re.search('HT',row)\\\n",
    "                                                       else 0),\n",
    "             QT_fuera=lambda dataset:dataset[\"Tto_afuera\"]\\\n",
    "                                     .apply(lambda row:1 if re.search('QT',row)\\\n",
    "                                                       else 0),\n",
    "             OT_fuera=lambda dataset:dataset[\"Tto_afuera\"]\\\n",
    "                                     .apply(lambda row:1 if re.search('OT',row)\\\n",
    "                                                       else 0),\n",
    "             CX_Rec=lambda dataset:dataset[\"Tipos_Tto_Rec\"]\\\n",
    "                                 .apply(lambda row:1 if re.search('CX',row)\\\n",
    "                                                       else 0),\n",
    "             HT_Rec=lambda dataset:dataset[\"Tipos_Tto_Rec\"]\\\n",
    "                                 .apply(lambda row:1 if re.search('HT',row)\\\n",
    "                                                       else 0),\n",
    "             QT_Rec=lambda dataset:dataset[\"Tipos_Tto_Rec\"]\\\n",
    "                                 .apply(lambda row:1 if re.search('QT',row)\\\n",
    "                                                       else 0),\n",
    "             RT_Rec=lambda dataset:dataset[\"Tipos_Tto_Rec\"]\\\n",
    "                                 .apply(lambda row:1 if re.search('RT',row)\\\n",
    "                                                       else 0)\n",
    "                  ).drop([\"Tipos_Tto_Rec\"], axis=1)"
   ]
  },
  {
   "cell_type": "markdown",
   "id": "2f45e4d9-1fc7-4805-9d3f-f2ce7d951cff",
   "metadata": {},
   "source": [
    "The value of the variable \"Fecha_Tto_1\" contains values of two different variables separated by a hyphen. This variable expresses the treatment start date followed by the type of treatment."
   ]
  },
  {
   "cell_type": "code",
   "execution_count": 17,
   "id": "815f1a44-8ae2-4a39-b69e-eeb4ebf236ee",
   "metadata": {},
   "outputs": [],
   "source": [
    "dp=dp.assign(Fecha_Tto_1=lambda dataset:dataset[\"Tto_1\"]\\\n",
    "                                        .apply(lambda row:row.split(sep='-')[0]),\n",
    "             Tto_1=lambda dataset:dataset[\"Tto_1\"]\\\n",
    "                                        .apply(lambda row: re.search(r'[a-zA-Z0]+$',row)[0] \n",
    "                                                           if re.search(r'[a-zA-Z0]+$',row)\n",
    "                                                           else row))"
   ]
  },
  {
   "cell_type": "markdown",
   "id": "057e3d26-b1cc-4c2d-8cf7-17039d5f2bed",
   "metadata": {},
   "source": [
    "Since there is only the variable with the date of the patients who underwent a certain procedure/treatment, a new variable is created containing information on the presence or absence of the procedure/treatment.Invalid values must be considered:\n",
    "* \" \"  : Blank space (absence of information)\n",
    "* 777 : No information available\n",
    "* 888 : Not applicable\n"
   ]
  },
  {
   "cell_type": "code",
   "execution_count": 18,
   "id": "48fb6e88-e514-4b92-9d4d-fd3545a85a80",
   "metadata": {},
   "outputs": [],
   "source": [
    "dp=dp.assign(Aband_Tto=lambda dataset:dataset[\"Fecha_Aband_Tto\"]\\\n",
    "                                            .apply(lambda row: 1 if row!=\"\"and row!=\"888\" and row!=\"777\"\\\n",
    "                                                                else 0),\n",
    "             Hormonoterapia=lambda dataset:dataset[\"Fecha_HT\"]\\\n",
    "                                           .apply(lambda row: 1 if row!=\"\"and row!=\"888\" and row!=\"777\"\\\n",
    "                                                                 else 0),\n",
    "             Orquiectomia=lambda dataset:dataset[\"Fecha_orquiectomia\"]\\\n",
    "                                           .apply(lambda row: 1 if row!=\"\"and row!=\"888\" and row!=\"777\"\\\n",
    "                                                                 else 0),\n",
    "              Recurrecia=lambda dataset:dataset[\"Fecha_Rec\"]\\\n",
    "                                            .apply(lambda row: 1 if row!=\"\"and row!=\"888\" and row!=\"777\"\\\n",
    "                                                                  else 0)\n",
    "            )"
   ]
  },
  {
   "cell_type": "markdown",
   "id": "9025054e-ff49-416d-9d04-4726503222ed",
   "metadata": {},
   "source": [
    "In the variable \"Muere_antes_Tto\" there are several codes that represent different events of which we only need to know if the patient died before the treatment was started, so we replace them."
   ]
  },
  {
   "cell_type": "code",
   "execution_count": 19,
   "id": "b7f67821-7802-4e19-82b6-dcfe06541b23",
   "metadata": {},
   "outputs": [],
   "source": [
    "dp=dp.assign(Muere_antes_Tto=lambda dataset:dataset[\"Muere_antes_Tto\"]\\\n",
    "                                            .apply(lambda row:1 if row=='ST02'\\\n",
    "                                                                  else 0))"
   ]
  },
  {
   "cell_type": "markdown",
   "id": "c101cbfa-1f9d-4f30-8837-80f02493ea9b",
   "metadata": {},
   "source": [
    "A binary value representing the presence or absence of treatment is used to determine whether the patient received a certain treatment. This type of value is also used to determine whether or not the cancer has spread in the patient. Invalid values must be considered:\n",
    "*   \" \" : Blank space (absence of information)\n",
    "* 777 : No information available\n",
    "* 888 : Not applicable\n"
   ]
  },
  {
   "cell_type": "code",
   "execution_count": 20,
   "id": "af2bd393-300a-479d-b148-9b0a392eee1a",
   "metadata": {},
   "outputs": [],
   "source": [
    "dp=dp.assign(Ttto_paliativo=lambda dataset:dataset[\"Ttto_paliativo\"]\\\n",
    "                                 .apply(lambda row:1 if row!=\"\"and row!=\"888\" and row!=\"777\"\\\n",
    "                                                       else 0),\n",
    "             Radioterapia=lambda dataset:dataset[\"Radioterapia\"]\\\n",
    "                                 .apply(lambda row:1 if re.search(r'^RT',row)\\\n",
    "                                                       else 0),\n",
    "             Metastasis=lambda dataset:dataset[\"Metastasis\"]\\\n",
    "                                 .apply(lambda row:1 if row!=\"\" and row!=\"888\" and row!=\"777\"\\\n",
    "                                                       else 0)\n",
    "                  )"
   ]
  },
  {
   "cell_type": "markdown",
   "id": "f266453b-4ca8-4fc4-b9da-b6d7e8343c49",
   "metadata": {},
   "source": [
    "In order to respect the SEER classification that classifies the stage of the patients, we replace only with the categories obtained from the official website in which there is a table of Summary Stage [SS2018](https://staging.seer.cancer.gov/eod_public/input/1.0/prostate/ss2018/?breadcrumbs=(~schema_list~),(~view_schema~,~prostate~)) of prostate cancer with their respective weighting.\n"
   ]
  },
  {
   "cell_type": "code",
   "execution_count": 21,
   "id": "9487b17a-272e-4c76-bf2c-1eb2aecfdd36",
   "metadata": {},
   "outputs": [],
   "source": [
    "dp=dp.assign(SEER_Estadio=lambda dataset:dataset[\"SEER_Estadio\"].replace(\n",
    "  {\n",
    "    \"No estadificado/ desconoce/ no especificado\":\"Desconocido\",\n",
    "    \"Metastasis distante / enferm. sistematica\":\"Distante\",\n",
    "    \"Regional Por Extension Directa\":\"Regional sólo por extensión directa\",    \n",
    "    \"Regional A Los Ganglios Linfaticos\":\"Regional solo por Ganglios Linfaticos\",\n",
    "    'Regional NEO':'Regional (2 y 3 )'\n",
    "  }\n",
    "  ))"
   ]
  },
  {
   "cell_type": "markdown",
   "id": "82546962-95ef-4559-9f76-dcf4cc45677c",
   "metadata": {},
   "source": [
    "Also, in order to respect the SEER stadium coding, the values that do not belong are replaced by their corresponding value obtained from [Summary Stage 2018: Prostate](https://staging.seer.cancer.gov/eod_public/input/1.0/prostate/ss2018/?breadcrumbs=(~schema_list~),(~view_schema~,~prostate~))"
   ]
  },
  {
   "cell_type": "code",
   "execution_count": 22,
   "id": "353d77e6-ac08-4560-a77b-28c2343f9b37",
   "metadata": {},
   "outputs": [
    {
     "data": {
      "text/plain": [
       "array([9, 7, 3, 2, 1, 0, 4, 5])"
      ]
     },
     "execution_count": 22,
     "metadata": {},
     "output_type": "execute_result"
    }
   ],
   "source": [
    "dp[\"Cod_SEER_Estadio\"].unique()"
   ]
  },
  {
   "cell_type": "code",
   "execution_count": 23,
   "id": "8ca91268-4043-4481-8df8-9eb48aec3668",
   "metadata": {},
   "outputs": [
    {
     "data": {
      "text/html": [
       "<div>\n",
       "<style scoped>\n",
       "    .dataframe tbody tr th:only-of-type {\n",
       "        vertical-align: middle;\n",
       "    }\n",
       "\n",
       "    .dataframe tbody tr th {\n",
       "        vertical-align: top;\n",
       "    }\n",
       "\n",
       "    .dataframe thead th {\n",
       "        text-align: right;\n",
       "    }\n",
       "</style>\n",
       "<table border=\"1\" class=\"dataframe\">\n",
       "  <thead>\n",
       "    <tr style=\"text-align: right;\">\n",
       "      <th></th>\n",
       "      <th>index</th>\n",
       "      <th>Edad_diag</th>\n",
       "      <th>Diagnostico</th>\n",
       "      <th>Cod_SEER_Estadio</th>\n",
       "      <th>SEER_Estadio</th>\n",
       "      <th>Fecha_Diag</th>\n",
       "      <th>Tto_afuera</th>\n",
       "      <th>...</th>\n",
       "      <th>QT_Rec</th>\n",
       "      <th>RT_Rec</th>\n",
       "      <th>Fecha_Tto_1</th>\n",
       "      <th>Aband_Tto</th>\n",
       "      <th>Hormonoterapia</th>\n",
       "      <th>Orquiectomia</th>\n",
       "      <th>Recurrecia</th>\n",
       "    </tr>\n",
       "  </thead>\n",
       "  <tbody>\n",
       "    <tr>\n",
       "      <th>1501</th>\n",
       "      <td>1501</td>\n",
       "      <td>52</td>\n",
       "      <td>Adenocarcinoma...</td>\n",
       "      <td>5</td>\n",
       "      <td>Regional (2 y 3 )</td>\n",
       "      <td>2010/04/20</td>\n",
       "      <td>CX</td>\n",
       "      <td>...</td>\n",
       "      <td>0</td>\n",
       "      <td>0</td>\n",
       "      <td>2010/09/13</td>\n",
       "      <td>0</td>\n",
       "      <td>0</td>\n",
       "      <td>0</td>\n",
       "      <td>1</td>\n",
       "    </tr>\n",
       "  </tbody>\n",
       "</table>\n",
       "<p>1 rows × 48 columns</p>\n",
       "</div>"
      ],
      "text/plain": [
       "      index  Edad_diag        Diagnostico  Cod_SEER_Estadio  \\\n",
       "1501   1501         52  Adenocarcinoma...                 5   \n",
       "\n",
       "           SEER_Estadio  Fecha_Diag Tto_afuera  ... QT_Rec  RT_Rec  \\\n",
       "1501  Regional (2 y 3 )  2010/04/20         CX  ...      0       0   \n",
       "\n",
       "      Fecha_Tto_1 Aband_Tto Hormonoterapia  Orquiectomia  Recurrecia  \n",
       "1501  2010/09/13          0              0             0           1  \n",
       "\n",
       "[1 rows x 48 columns]"
      ]
     },
     "execution_count": 23,
     "metadata": {},
     "output_type": "execute_result"
    }
   ],
   "source": [
    "dp[~dp[\"Cod_SEER_Estadio\"].isin([9,7,4,3,2,1,0])]"
   ]
  },
  {
   "cell_type": "markdown",
   "id": "5d63f118-5c2b-4075-b7cd-44b7f91f0b18",
   "metadata": {},
   "source": [
    "All values different from 9,7,4,3,2,1 and 0, must be replaced with their corresponding value obtained in the page mentioned above."
   ]
  },
  {
   "cell_type": "code",
   "execution_count": 24,
   "id": "08d015cc-7a4e-44dd-b60e-3f8ec85e310b",
   "metadata": {},
   "outputs": [],
   "source": [
    "dp=dp.assign(Cod_SEER_Estadio=lambda dataset:dataset[\"Cod_SEER_Estadio\"].replace(\n",
    "              {\n",
    "                5:4\n",
    "              })\n",
    "             ) "
   ]
  },
  {
   "cell_type": "markdown",
   "id": "f170201a-3f1a-424e-ae92-7e40aae4449e",
   "metadata": {},
   "source": [
    "The [\"Causa_Defuncion\"] variable must keep the categories related to causes that indicate the influence of cancer on it, so the categories that have no relevance are replaced by \"Otros\"."
   ]
  },
  {
   "cell_type": "code",
   "execution_count": 25,
   "id": "febc7b48-19cb-4f90-9eeb-ef4b43a21561",
   "metadata": {},
   "outputs": [],
   "source": [
    "dp2=dp.assign(Causa_Defuncion=lambda dataset:dataset[\"Causa_Defuncion\"].replace(\n",
    "  {\n",
    "    \"Sintomas/ signos y hallazgos \":\"Otros\",\n",
    "    \"Tumor maligno de Organos digestivos\":\"Otros\",    \n",
    "    \"Enfermedades del sistema circulatorio\":\"Otros\",\n",
    "    \"Enfermedades del aparato digestivo\":\"Otros\",             \n",
    "    \"Enfermedades endocrinas/ \":\"Otros\",      \n",
    "    \"Tumores malignos tejido linfatico/ de \":\"Tumores malignos tejido linfatico\",      \n",
    "    \"Tumor maligno de Piel\"  :\"Otros\", \n",
    "    \"Tumor maligno de Labio/ cavidad \":\"Otros\",             \n",
    "    \"sin dato\":np.nan,                                   \n",
    "    \"Tumores malignos de sitios mal \":\"Otros\",             \n",
    "    \"Enfermedades de la sangre y organos \" :\"Otros\",      \n",
    "    \"Tumores malignos (primarios) de \"  :\"Otros\",           \n",
    "    \"Causas extremas de morbilidad y de \" :\"Otros\",        \n",
    "    \"Tumor maligno de Ojo/ encefalo y \" :\"Otros\",          \n",
    "    \"Tumor maligno de Tejidos \" :\"Otros\"    \n",
    "  }\n",
    "  ))"
   ]
  },
  {
   "cell_type": "markdown",
   "id": "ede43606-6534-4733-8f03-6b11ee5543b9",
   "metadata": {},
   "source": [
    "The categories in the column [\"Causa_Defuncion\"] are checked using dataFrame.Series.value_counts()"
   ]
  },
  {
   "cell_type": "code",
   "execution_count": 26,
   "id": "93f92f1a-b50e-482e-b8da-a1c25fa98649",
   "metadata": {},
   "outputs": [
    {
     "data": {
      "text/plain": [
       "                                       769\n",
       "Tumor maligno de Organos genitales     582\n",
       "Otros                                  262\n",
       "Tumor maligno de Vias urinarias          9\n",
       "Enfermedades del sistema                 7\n",
       "Tumores malignos tejido linfatico        5\n",
       "Enfermedades del aparato                 3\n",
       "Name: Causa_Defuncion, dtype: int64"
      ]
     },
     "execution_count": 26,
     "metadata": {},
     "output_type": "execute_result"
    }
   ],
   "source": [
    "dp2[\"Causa_Defuncion\"].value_counts()"
   ]
  },
  {
   "cell_type": "markdown",
   "id": "09bf028d-1b42-4751-8f58-fc0217b159b8",
   "metadata": {},
   "source": [
    "Now, we check the format of the variables using dataFrame.info()"
   ]
  },
  {
   "cell_type": "code",
   "execution_count": 27,
   "id": "d7d54385-4b34-44a2-b9f9-5a4fe9481f3e",
   "metadata": {},
   "outputs": [
    {
     "name": "stdout",
     "output_type": "stream",
     "text": [
      "<class 'pandas.core.frame.DataFrame'>\n",
      "RangeIndex: 1639 entries, 0 to 1638\n",
      "Data columns (total 48 columns):\n",
      " #   Column              Non-Null Count  Dtype \n",
      "---  ------              --------------  ----- \n",
      " 0   index               1639 non-null   int64 \n",
      " 1   Edad_diag           1639 non-null   int64 \n",
      " 2   Diagnostico         1639 non-null   object\n",
      " 3   Cod_SEER_Estadio    1639 non-null   int64 \n",
      " 4   SEER_Estadio        1639 non-null   object\n",
      " 5   Fecha_Diag          1639 non-null   object\n",
      " 6   Tto_afuera          1639 non-null   object\n",
      " 7   Fecha_Tto_afuera    1639 non-null   object\n",
      " 8   Ttto_paliativo      1639 non-null   int64 \n",
      " 9   Tto_1               1639 non-null   object\n",
      " 10  Fecha_Aband_Tto     1639 non-null   object\n",
      " 11  Fecha_CX            1639 non-null   object\n",
      " 12  Muere_antes_Tto     1639 non-null   int64 \n",
      " 13  Radioterapia        1639 non-null   int64 \n",
      " 14  Fecha_RT            1639 non-null   object\n",
      " 15  Dosis_Recib         1639 non-null   object\n",
      " 16  Fecha_HT            1639 non-null   object\n",
      " 17  Fecha_orquiectomia  1639 non-null   object\n",
      " 18  Metastasis          1639 non-null   int64 \n",
      " 19  Tipo_Rec_1          1639 non-null   int64 \n",
      " 20  Tipo_Rec_2          1639 non-null   int64 \n",
      " 21  Fecha_Rec           1639 non-null   object\n",
      " 22  Fecha_Tto_Rec       1639 non-null   object\n",
      " 23  Fecha_Defun         1639 non-null   object\n",
      " 24  Causa_Defuncion     1639 non-null   object\n",
      " 25  Fecha_Ult_Contacto  1639 non-null   object\n",
      " 26  Fecha_Reg_Seguim    1639 non-null   object\n",
      " 27  Estado_Vital        1639 non-null   object\n",
      " 28  Fecha_Pase_Control  1639 non-null   object\n",
      " 29  Cod_Estado_Tratam   1639 non-null   int64 \n",
      " 30  Estado_Tratamiento  1639 non-null   object\n",
      " 31  T                   1639 non-null   object\n",
      " 32  N                   1639 non-null   object\n",
      " 33  M                   1639 non-null   object\n",
      " 34  E                   1639 non-null   object\n",
      " 35  CX_fuera            1639 non-null   int64 \n",
      " 36  HT_fuera            1639 non-null   int64 \n",
      " 37  QT_fuera            1639 non-null   int64 \n",
      " 38  OT_fuera            1639 non-null   int64 \n",
      " 39  CX_Rec              1639 non-null   int64 \n",
      " 40  HT_Rec              1639 non-null   int64 \n",
      " 41  QT_Rec              1639 non-null   int64 \n",
      " 42  RT_Rec              1639 non-null   int64 \n",
      " 43  Fecha_Tto_1         1639 non-null   object\n",
      " 44  Aband_Tto           1639 non-null   int64 \n",
      " 45  Hormonoterapia      1639 non-null   int64 \n",
      " 46  Orquiectomia        1639 non-null   int64 \n",
      " 47  Recurrecia          1639 non-null   int64 \n",
      "dtypes: int64(22), object(26)\n",
      "memory usage: 614.8+ KB\n"
     ]
    }
   ],
   "source": [
    "dp.info()"
   ]
  },
  {
   "cell_type": "markdown",
   "id": "ebfb3310-87e4-403f-8171-1993b05d6c76",
   "metadata": {},
   "source": [
    "Each variable representing a date must be changed to \"datetime64[ns]\" format."
   ]
  },
  {
   "cell_type": "code",
   "execution_count": 28,
   "id": "6bfb04de-37ff-4f86-b9ca-469aad5751e3",
   "metadata": {},
   "outputs": [],
   "source": [
    "dp2=dp2.assign(Fecha_Diag=lambda dataset:dataset[\"Fecha_Diag\"].astype(\"datetime64[ns]\"),\n",
    "              Fecha_Tto_afuera=lambda dataset:dataset[\"Fecha_Tto_afuera\"]\\\n",
    "                                                         .astype(\"datetime64[ns]\"),\n",
    "              Fecha_Tto_1=lambda dataset:dataset[\"Fecha_Tto_1\"]\\\n",
    "                                                         .astype(\"datetime64[ns]\"),\n",
    "              Fecha_Aband_Tto=lambda dataset:dataset[\"Fecha_Aband_Tto\"]\\\n",
    "                                                         .astype(\"datetime64[ns]\"),\n",
    "              Fecha_CX=lambda dataset:dataset[\"Fecha_CX\"].astype(\"datetime64[ns]\"),\n",
    "              Fecha_RT=lambda dataset:dataset[\"Fecha_RT\"].astype(\"datetime64[ns]\"),\n",
    "              Fecha_HT=lambda dataset:dataset[\"Fecha_HT\"].astype(\"datetime64[ns]\"),\n",
    "              Fecha_orquiectomia=lambda dataset:dataset[\"Fecha_orquiectomia\"]\\\n",
    "                                                          .astype(\"datetime64[ns]\"),\n",
    "              Fecha_Rec=lambda dataset:dataset[\"Fecha_Rec\"].astype(\"datetime64[ns]\"),\n",
    "              Fecha_Tto_Rec=lambda dataset:dataset[\"Fecha_Tto_Rec\"]\\\n",
    "                                                          .astype(\"datetime64[ns]\"),\n",
    "              Fecha_Defun=lambda dataset:dataset[\"Fecha_Defun\"]\\\n",
    "                                                          .astype(\"datetime64[ns]\"),\n",
    "              Fecha_Ult_Contacto=lambda dataset:dataset[\"Fecha_Ult_Contacto\"]\\\n",
    "                                                          .astype(\"datetime64[ns]\"),\n",
    "              Fecha_Reg_Seguim=lambda dataset:dataset[\"Fecha_Reg_Seguim\"]\\\n",
    "                                                          .astype(\"datetime64[ns]\"),\n",
    "              Fecha_Pase_Control=lambda dataset:dataset[\"Fecha_Pase_Control\"]\\\n",
    "                                                          .astype(\"datetime64[ns]\"),\n",
    "               )"
   ]
  },
  {
   "cell_type": "markdown",
   "id": "ff4caeb7-ed2b-449d-a78e-cc228dbe8832",
   "metadata": {},
   "source": [
    "For this type of review, only the stages are needed and not their subclassifications. A search is made for all the categories present in column \"E\", which contains the stages of each patient."
   ]
  },
  {
   "cell_type": "code",
   "execution_count": 29,
   "id": "fb546509-23c4-472f-bf03-e8b61f0e1611",
   "metadata": {},
   "outputs": [
    {
     "data": {
      "text/plain": [
       "IV      628\n",
       "777     350\n",
       "II      268\n",
       "III     202\n",
       "99      100\n",
       "I        84\n",
       "IIIB      4\n",
       "88        2\n",
       "IC        1\n",
       "Name: E, dtype: int64"
      ]
     },
     "execution_count": 29,
     "metadata": {},
     "output_type": "execute_result"
    }
   ],
   "source": [
    "dp2[\"E\"].value_counts()"
   ]
  },
  {
   "cell_type": "markdown",
   "id": "c07dece7-1cb0-463e-a445-b51ee4cd3113",
   "metadata": {},
   "source": [
    "Only stages I, II, III and IV are retained, and their subclassifications are attached to the main branch of stages."
   ]
  },
  {
   "cell_type": "code",
   "execution_count": 30,
   "id": "a50f8591-65a9-4e2d-bde2-820b2d61b434",
   "metadata": {},
   "outputs": [],
   "source": [
    "dp2 = dp2.replace('IC', 'I')\n",
    "dp2 = dp2.replace('IIIB', 'III')"
   ]
  },
  {
   "cell_type": "markdown",
   "id": "0f65e6db-4cc1-40fb-b15e-41601918e182",
   "metadata": {},
   "source": [
    "Finally we replace the missing data with np.nan and rearrange the position of the columns.. Invalid values must be considered:\n",
    "* \" \"  : Blank space (absence of information)\n",
    "* 777 : No information available\n",
    "* 888 : Not applicable\n",
    "* 99 : Not data\n",
    "* 88 : Not data"
   ]
  },
  {
   "cell_type": "code",
   "execution_count": 31,
   "id": "cee1bea4-02da-4721-b8da-4c2cf2266e2f",
   "metadata": {},
   "outputs": [
    {
     "name": "stdout",
     "output_type": "stream",
     "text": [
      "<class 'pandas.core.frame.DataFrame'>\n",
      "RangeIndex: 1639 entries, 0 to 1638\n",
      "Data columns (total 47 columns):\n",
      " #   Column              Non-Null Count  Dtype         \n",
      "---  ------              --------------  -----         \n",
      " 0   index               1639 non-null   int64         \n",
      " 1   Edad_diag           1639 non-null   int64         \n",
      " 2   Diagnostico         1639 non-null   object        \n",
      " 3   Cod_SEER_Estadio    1639 non-null   int64         \n",
      " 4   SEER_Estadio        1639 non-null   object        \n",
      " 5   Fecha_Diag          1639 non-null   datetime64[ns]\n",
      " 6   T                   1176 non-null   object        \n",
      " 7   N                   1229 non-null   object        \n",
      " 8   M                   1273 non-null   object        \n",
      " 9   E                   1187 non-null   object        \n",
      " 10  CX_fuera            1639 non-null   int64         \n",
      " 11  HT_fuera            1639 non-null   int64         \n",
      " 12  QT_fuera            1639 non-null   int64         \n",
      " 13  OT_fuera            1639 non-null   int64         \n",
      " 14  Fecha_Tto_afuera    342 non-null    datetime64[ns]\n",
      " 15  Ttto_paliativo      1639 non-null   int64         \n",
      " 16  Tto_1               806 non-null    object        \n",
      " 17  Muere_antes_Tto     1639 non-null   int64         \n",
      " 18  Fecha_Tto_1         806 non-null    datetime64[ns]\n",
      " 19  Aband_Tto           1639 non-null   int64         \n",
      " 20  Fecha_Aband_Tto     217 non-null    datetime64[ns]\n",
      " 21  Fecha_CX            277 non-null    datetime64[ns]\n",
      " 22  Hormonoterapia      1639 non-null   int64         \n",
      " 23  Fecha_HT            129 non-null    datetime64[ns]\n",
      " 24  Orquiectomia        1639 non-null   int64         \n",
      " 25  Fecha_orquiectomia  235 non-null    datetime64[ns]\n",
      " 26  Radioterapia        1639 non-null   int64         \n",
      " 27  Dosis_Recib         326 non-null    float64       \n",
      " 28  Fecha_RT            340 non-null    datetime64[ns]\n",
      " 29  Recurrecia          1639 non-null   int64         \n",
      " 30  Tipo_Rec_1          1639 non-null   int64         \n",
      " 31  Tipo_Rec_2          1639 non-null   int64         \n",
      " 32  Fecha_Rec           1182 non-null   datetime64[ns]\n",
      " 33  Metastasis          1639 non-null   int64         \n",
      " 34  CX_Rec              1639 non-null   int64         \n",
      " 35  HT_Rec              1639 non-null   int64         \n",
      " 36  QT_Rec              1639 non-null   int64         \n",
      " 37  RT_Rec              1639 non-null   int64         \n",
      " 38  Fecha_Tto_Rec       418 non-null    datetime64[ns]\n",
      " 39  Fecha_Pase_Control  1624 non-null   datetime64[ns]\n",
      " 40  Fecha_Reg_Seguim    1639 non-null   datetime64[ns]\n",
      " 41  Fecha_Ult_Contacto  1639 non-null   datetime64[ns]\n",
      " 42  Cod_Estado_Tratam   1639 non-null   int64         \n",
      " 43  Estado_Tratamiento  1639 non-null   object        \n",
      " 44  Estado_Vital        1639 non-null   object        \n",
      " 45  Fecha_Defun         871 non-null    datetime64[ns]\n",
      " 46  Causa_Defuncion     868 non-null    object        \n",
      "dtypes: datetime64[ns](14), float64(1), int64(22), object(10)\n",
      "memory usage: 601.9+ KB\n"
     ]
    }
   ],
   "source": [
    "dp2 = dp2.replace(['888','777','88','99',''], np.nan)\n",
    "dp2 = dp2[[ \"index\",\"Edad_diag\", \"Diagnostico\", \"Cod_SEER_Estadio\", \"SEER_Estadio\",\n",
    "           \"Fecha_Diag\", \"T\", \"N\", \"M\", \"E\", \"CX_fuera\", \"HT_fuera\", \n",
    "           \"QT_fuera\", \"OT_fuera\",\"Fecha_Tto_afuera\", \"Ttto_paliativo\",\n",
    "           \"Tto_1\", \"Muere_antes_Tto\",\"Fecha_Tto_1\",\"Aband_Tto\", \n",
    "           \"Fecha_Aband_Tto\",\"Fecha_CX\", \"Hormonoterapia\",\"Fecha_HT\",\n",
    "           \"Orquiectomia\",\"Fecha_orquiectomia\",\"Radioterapia\",\"Dosis_Recib\",\n",
    "           \"Fecha_RT\",\"Recurrecia\",\"Tipo_Rec_1\", \"Tipo_Rec_2\",\"Fecha_Rec\",\n",
    "           \"Metastasis\",\"CX_Rec\", \"HT_Rec\", \"QT_Rec\", \"RT_Rec\", \n",
    "           \"Fecha_Tto_Rec\",\"Fecha_Pase_Control\",\"Fecha_Reg_Seguim\",\n",
    "           \"Fecha_Ult_Contacto\",\"Cod_Estado_Tratam\",\"Estado_Tratamiento\",\n",
    "           \"Estado_Vital\",\"Fecha_Defun\",\"Causa_Defuncion\"]]\n",
    "dp2.info()"
   ]
  },
  {
   "cell_type": "markdown",
   "id": "412ce153-f952-49e8-a985-964233a3dbd3",
   "metadata": {},
   "source": [
    "## Modification"
   ]
  },
  {
   "cell_type": "markdown",
   "id": "90c89571-c170-46ab-a4c7-a5b159d68c44",
   "metadata": {},
   "source": [
    "New variables are created using the clean dataset in order to generate graphs to better visualize the contained data."
   ]
  },
  {
   "cell_type": "markdown",
   "id": "24676b21-541a-4af3-aeb2-ac3f2f2e7660",
   "metadata": {},
   "source": [
    "Two new variables are created in the dataset:\n",
    "* __tiempo_defuncion__: years from diagnosis to death.\n",
    "* __tiempo_vivo__: years from diagnosis to the time of database generation."
   ]
  },
  {
   "cell_type": "code",
   "execution_count": 32,
   "id": "89bd3f83-13b2-4b55-b753-6b7e0f30a1b2",
   "metadata": {},
   "outputs": [],
   "source": [
    "tiempo_final=\"2020-12-31\"\n",
    "tiempo_final=datetime.strptime(tiempo_final, '%Y-%m-%d')\n",
    "\n",
    "dp2=dp2.assign(tiempo_defuncion=lambda dataset:round((dataset[\"Fecha_Defun\"]-dataset[\"Fecha_Diag\"]).dt.days / 365,1),\n",
    "               tiempo_vivo=lambda dataset:round((tiempo_final-dataset[\"Fecha_Diag\"][dataset[\"Estado_Vital\"]==\"Vivo\"]).dt.days / 365,1),\n",
    "               tiempo_recurr=lambda dataset:round((dataset[\"Fecha_Rec\"]-dataset[\"Fecha_Diag\"]).dt.days / 365,1))"
   ]
  },
  {
   "cell_type": "markdown",
   "id": "3ce55381-5b63-4204-8e61-e77869257c90",
   "metadata": {},
   "source": [
    "A query is made to look for negative values in the new variable \"tiempo_defuncion\" since there should not be any value less than zero."
   ]
  },
  {
   "cell_type": "code",
   "execution_count": 33,
   "id": "1c24d031-3170-4871-93ae-b2a5f49c6df5",
   "metadata": {},
   "outputs": [
    {
     "data": {
      "text/html": [
       "<div>\n",
       "<style scoped>\n",
       "    .dataframe tbody tr th:only-of-type {\n",
       "        vertical-align: middle;\n",
       "    }\n",
       "\n",
       "    .dataframe tbody tr th {\n",
       "        vertical-align: top;\n",
       "    }\n",
       "\n",
       "    .dataframe thead th {\n",
       "        text-align: right;\n",
       "    }\n",
       "</style>\n",
       "<table border=\"1\" class=\"dataframe\">\n",
       "  <thead>\n",
       "    <tr style=\"text-align: right;\">\n",
       "      <th></th>\n",
       "      <th>Fecha_Diag</th>\n",
       "      <th>Fecha_Defun</th>\n",
       "    </tr>\n",
       "  </thead>\n",
       "  <tbody>\n",
       "    <tr>\n",
       "      <th>493</th>\n",
       "      <td>2004-01-01</td>\n",
       "      <td>2001-02-11</td>\n",
       "    </tr>\n",
       "    <tr>\n",
       "      <th>1046</th>\n",
       "      <td>2007-10-09</td>\n",
       "      <td>2006-03-17</td>\n",
       "    </tr>\n",
       "  </tbody>\n",
       "</table>\n",
       "</div>"
      ],
      "text/plain": [
       "     Fecha_Diag Fecha_Defun\n",
       "493  2004-01-01  2001-02-11\n",
       "1046 2007-10-09  2006-03-17"
      ]
     },
     "execution_count": 33,
     "metadata": {},
     "output_type": "execute_result"
    }
   ],
   "source": [
    "dp2[[\"Fecha_Diag\",\"Fecha_Defun\"]][dp2[\"tiempo_defuncion\"]<0]"
   ]
  },
  {
   "cell_type": "markdown",
   "id": "31adb8da-68e7-4c16-bcd3-acd961fe0b45",
   "metadata": {},
   "source": [
    "two negative values are found. Since there are very few data with respect to the whole dataset, they are eliminated."
   ]
  },
  {
   "cell_type": "code",
   "execution_count": 34,
   "id": "02e9c15c-7652-4356-a768-8e2a350910a1",
   "metadata": {},
   "outputs": [],
   "source": [
    "dp2.drop(dp2[[\"Fecha_Diag\",\"Fecha_Defun\"]][dp2[\"tiempo_defuncion\"]<0].index,inplace=True)"
   ]
  },
  {
   "cell_type": "markdown",
   "id": "975dd158-9409-4ae5-8b36-1f58ab7d5add",
   "metadata": {},
   "source": [
    "A query is made to look for negative values in the new variable \"tiempo_vivo\" since there should not be any value less than zero."
   ]
  },
  {
   "cell_type": "code",
   "execution_count": 35,
   "id": "97575fad-e399-488c-8c7b-e06a9f2bde77",
   "metadata": {},
   "outputs": [
    {
     "data": {
      "text/html": [
       "<div>\n",
       "<style scoped>\n",
       "    .dataframe tbody tr th:only-of-type {\n",
       "        vertical-align: middle;\n",
       "    }\n",
       "\n",
       "    .dataframe tbody tr th {\n",
       "        vertical-align: top;\n",
       "    }\n",
       "\n",
       "    .dataframe thead th {\n",
       "        text-align: right;\n",
       "    }\n",
       "</style>\n",
       "<table border=\"1\" class=\"dataframe\">\n",
       "  <thead>\n",
       "    <tr style=\"text-align: right;\">\n",
       "      <th></th>\n",
       "      <th>Fecha_Diag</th>\n",
       "      <th>Fecha_Defun</th>\n",
       "    </tr>\n",
       "  </thead>\n",
       "  <tbody>\n",
       "  </tbody>\n",
       "</table>\n",
       "</div>"
      ],
      "text/plain": [
       "Empty DataFrame\n",
       "Columns: [Fecha_Diag, Fecha_Defun]\n",
       "Index: []"
      ]
     },
     "execution_count": 35,
     "metadata": {},
     "output_type": "execute_result"
    }
   ],
   "source": [
    "dp2[[\"Fecha_Diag\",\"Fecha_Defun\"]][dp2[\"tiempo_vivo\"]<0]"
   ]
  },
  {
   "cell_type": "markdown",
   "id": "53a45736-8d27-4ae2-bcc6-89af3ed3061f",
   "metadata": {},
   "source": [
    "Since no negative value is found, the datase is preserved. Finally, it can be said that the dataset is clean."
   ]
  },
  {
   "cell_type": "markdown",
   "id": "2b69c643-ddf9-41e9-85d5-62cd41d6824d",
   "metadata": {},
   "source": [
    "## 4.- Data visualization"
   ]
  },
  {
   "cell_type": "code",
   "execution_count": 36,
   "id": "247bc90f-d3ca-489a-b932-de16f3e40891",
   "metadata": {},
   "outputs": [],
   "source": [
    "sns.set_theme(style=\"darkgrid\")"
   ]
  },
  {
   "cell_type": "code",
   "execution_count": 91,
   "id": "cdd8c00d-3c2b-4dec-9d06-5ae5fcde5a17",
   "metadata": {},
   "outputs": [
    {
     "data": {
      "image/png": "[encoded data removed]",
      "text/plain": [
       "<Figure size 648x432 with 1 Axes>"
      ]
     },
     "metadata": {},
     "output_type": "display_data"
    }
   ],
   "source": [
    "g=sns.displot(data=dp2,x=\"Edad_diag\",\n",
    "            bins=30,kde=True,\n",
    "            kde_kws={'bw_adjust':0.9,'bw_method':'scott'},\n",
    "            stat='density', height=6,aspect=1.5).set(ylabel=None).set(title='Age distribution plot')\n",
    "\n",
    "plt.axvline(dp2[\"Edad_diag\"].mean(),c=\"red\", ls='--',lw=2.5);\n",
    "g.set(ylabel='Density', xlabel='Age at diagnosis');"
   ]
  },
  {
   "cell_type": "code",
   "execution_count": 85,
   "id": "f71cec6e-65a4-450a-bf9e-d051ec63a1af",
   "metadata": {},
   "outputs": [
    {
     "data": {
      "image/png": "[encoded data removed]",
      "text/plain": [
       "<Figure size 540x360 with 1 Axes>"
      ]
     },
     "metadata": {},
     "output_type": "display_data"
    }
   ],
   "source": [
    "g = sns.catplot(x=\"E\",\n",
    "                y=\"Edad_diag\",\n",
    "                data=dp2.sort_values(\"E\",ascending=True),\n",
    "                kind=\"box\",\n",
    "                palette=\"Paired_r\",\n",
    "                saturation=0.7,\n",
    "                height=5, aspect=1.5).set(title='Boxplot age grouped by stages')\n",
    "\n",
    "g.set(xlabel='Stage', ylabel='Age at diagnosis');"
   ]
  },
  {
   "cell_type": "code",
   "execution_count": 90,
   "id": "c64149dc-ac5e-4924-a0f8-ca0a1a9bb197",
   "metadata": {},
   "outputs": [
    {
     "data": {
      "image/png": "[encoded data removed]",
      "text/plain": [
       "<Figure size 648x432 with 1 Axes>"
      ]
     },
     "metadata": {},
     "output_type": "display_data"
    }
   ],
   "source": [
    "g=sns.displot(data=dp2,x=\"tiempo_vivo\",\n",
    "            bins=25,kde=True,\n",
    "            kde_kws={'bw_adjust':0.9,'bw_method':'scott'},\n",
    "            stat='density', height=6,aspect=1.5).set(ylabel=None).set(title='Time alive distribution plot')\n",
    "\n",
    "plt.axvline(dp2[\"tiempo_vivo\"].mean(),c=\"red\", ls='--',lw=2.5);\n",
    "g.set(xlabel='Time alive', ylabel='Density');"
   ]
  },
  {
   "cell_type": "code",
   "execution_count": 92,
   "id": "0cffc771-16cd-4eaa-aae9-a0d4517a22b4",
   "metadata": {},
   "outputs": [
    {
     "data": {
      "image/png": "[encoded data removed]",
      "text/plain": [
       "<Figure size 648x432 with 1 Axes>"
      ]
     },
     "metadata": {},
     "output_type": "display_data"
    }
   ],
   "source": [
    "g=sns.displot(data=dp2,x=\"tiempo_defuncion\",\n",
    "            bins=40,kde=True,\n",
    "            kde_kws={'bw_adjust':0.9,'bw_method':'scott'},\n",
    "            stat='density', height=6,aspect=1.5).set(ylabel=None).set(title='Time of death distribution plot')\n",
    "\n",
    "plt.axvline(dp2[\"tiempo_defuncion\"].mean(),c=\"red\", ls='--',lw=2.5);\n",
    "g.set(xlabel='Time of death', ylabel='Density');"
   ]
  },
  {
   "cell_type": "code",
   "execution_count": 100,
   "id": "72ecab92-1afd-4164-b1fe-d1843c89b599",
   "metadata": {},
   "outputs": [
    {
     "data": {
      "image/png": "[encoded data removed]",
      "text/plain": [
       "<Figure size 576x432 with 1 Axes>"
      ]
     },
     "metadata": {},
     "output_type": "display_data"
    }
   ],
   "source": [
    "plt.figure(figsize = (8,6))\n",
    "g=sns.countplot(x='E',\n",
    "                data=dp2.sort_values(\"E\",ascending=True),\n",
    "                saturation=1)\n",
    "\n",
    "g.set(ylim=(0, 800))\n",
    "g.set(title='Countplot grouped by stages')\n",
    "g.set(xlabel='Stages', ylabel='Count');\n",
    "for p in g.patches:\n",
    "    g.annotate('{:.2f}%'.format(p.get_height()*100/dp2['E'].count()), (p.get_x()+0.25, p.get_height()+10))"
   ]
  },
  {
   "cell_type": "code",
   "execution_count": 101,
   "id": "ea7666dd-53e8-451f-925b-82fddd0b618a",
   "metadata": {},
   "outputs": [
    {
     "data": {
      "image/png": "[encoded data removed]",
      "text/plain": [
       "<Figure size 576x432 with 1 Axes>"
      ]
     },
     "metadata": {},
     "output_type": "display_data"
    }
   ],
   "source": [
    "plt.figure(figsize = (8,6))\n",
    "g=sns.countplot(x='E',\n",
    "                data=dp2.sort_values(\"E\",ascending=True),\n",
    "                hue=\"Estado_Vital\",hue_order=[\"Muerto\",\"Vivo\"],\n",
    "                saturation=1)\n",
    "g.set(ylim=(0, 600))\n",
    "g.set(title='Countplot grouped by stages')\n",
    "g.set(xlabel='Stages', ylabel='Count');\n",
    "plt.legend(loc='upper left')\n",
    "for p in g.patches:\n",
    "    g.annotate('{:.2f}%'.format(p.get_height()*100/dp2['E'].count()), (p.get_x()+.05, p.get_height()+10))"
   ]
  },
  {
   "cell_type": "code",
   "execution_count": 102,
   "id": "af572e76-bf13-4ecd-99da-91712728efd2",
   "metadata": {},
   "outputs": [
    {
     "data": {
      "image/png": "[encoded data removed]",
      "text/plain": [
       "<Figure size 648x432 with 1 Axes>"
      ]
     },
     "metadata": {},
     "output_type": "display_data"
    }
   ],
   "source": [
    "g=sns.displot(data=dp2[dp2[\"E\"]==\"I\"],\n",
    "              x=\"tiempo_defuncion\",\n",
    "              bins=10,kde=True,\n",
    "              kde_kws={'bw_adjust':0.9,'bw_method':'scott'},\n",
    "              stat='density', height=6,aspect=1.5).set(ylabel=None)\n",
    "\n",
    "g.set(title='Time of death distribution plot: Stage I')\n",
    "g.set(xlabel='Time of death Stage I', ylabel='Density')\n",
    "plt.axvline(dp2[dp2[\"E\"]==\"I\"][\"tiempo_defuncion\"].mean(),c=\"red\", ls='--',lw=2.5);"
   ]
  },
  {
   "cell_type": "code",
   "execution_count": 116,
   "id": "095d07cd-0147-4a75-8cdd-086aa6618739",
   "metadata": {},
   "outputs": [
    {
     "data": {
      "image/png": "[encoded data removed]",
      "text/plain": [
       "<Figure size 504x360 with 1 Axes>"
      ]
     },
     "metadata": {},
     "output_type": "display_data"
    }
   ],
   "source": [
    "plt.figure(figsize = (7,5))\n",
    "g=sns.countplot(x='E',\n",
    "                data=dp2[dp2[\"E\"]==\"I\"],\n",
    "                hue=\"Estado_Vital\",hue_order=[\"Muerto\",\"Vivo\"],\n",
    "                saturation=1)\n",
    "\n",
    "g.set(ylim=(0, 80))\n",
    "plt.legend(loc='upper left')\n",
    "g.set(title='Countplot Stage I')\n",
    "g.set(xlabel='Stage I', ylabel='Count')\n",
    "\n",
    "for p in g.patches:\n",
    "    g.annotate('{:.2f}%'.format(p.get_height()*100/dp2[dp2[\"E\"]==\"I\"][\"index\"].count()), (p.get_x()+.15, p.get_height()+2))"
   ]
  },
  {
   "cell_type": "code",
   "execution_count": 104,
   "id": "4ff41661-1243-4d40-92dd-2ac95a48e4ab",
   "metadata": {},
   "outputs": [
    {
     "data": {
      "image/png": "[encoded data removed]",
      "text/plain": [
       "<Figure size 648x432 with 1 Axes>"
      ]
     },
     "metadata": {},
     "output_type": "display_data"
    }
   ],
   "source": [
    "g=sns.displot(data=dp2[dp2[\"E\"]==\"II\"],\n",
    "              x=\"tiempo_defuncion\",\n",
    "              bins=10,kde=True,\n",
    "              kde_kws={'bw_adjust':0.9,'bw_method':'scott'},\n",
    "              stat='density', height=6,aspect=1.5).set(ylabel=None)\n",
    "\n",
    "g.set(title='Time of death distribution plot: Stage II')\n",
    "g.set(xlabel='Time of death Stage II', ylabel='Density')\n",
    "plt.axvline(dp2[dp2[\"E\"]==\"II\"][\"tiempo_defuncion\"].mean(),c=\"red\", ls='--',lw=2.5);"
   ]
  },
  {
   "cell_type": "code",
   "execution_count": 117,
   "id": "47b01bee-93ef-4b41-9f55-c4e0f026e950",
   "metadata": {},
   "outputs": [
    {
     "data": {
      "image/png": "[encoded data removed]",
      "text/plain": [
       "<Figure size 504x360 with 1 Axes>"
      ]
     },
     "metadata": {},
     "output_type": "display_data"
    }
   ],
   "source": [
    "plt.figure(figsize = (7,5))\n",
    "g=sns.countplot(x='E',\n",
    "                data=dp2[dp2[\"E\"]==\"II\"],\n",
    "                hue=\"Estado_Vital\",hue_order=[\"Muerto\",\"Vivo\"],\n",
    "                saturation=1)\n",
    "g.set(ylim=(0, 210))\n",
    "plt.legend(loc='upper left')\n",
    "g.set(title='Countplot Stage II')\n",
    "g.set(xlabel='Stage II', ylabel='Count')\n",
    "for p in g.patches:\n",
    "    g.annotate('{:.2f}%'.format(p.get_height()*100/dp2[dp2[\"E\"]==\"II\"][\"index\"].count()), (p.get_x()+.15, p.get_height()+2))"
   ]
  },
  {
   "cell_type": "code",
   "execution_count": 105,
   "id": "ecdb5f2b-ea9a-4730-82a0-d933033dff1a",
   "metadata": {},
   "outputs": [
    {
     "data": {
      "image/png": "[encoded data removed]",
      "text/plain": [
       "<Figure size 648x432 with 1 Axes>"
      ]
     },
     "metadata": {},
     "output_type": "display_data"
    }
   ],
   "source": [
    "g=sns.displot(data=dp2[dp2[\"E\"]==\"III\"],\n",
    "              x=\"tiempo_defuncion\",\n",
    "              bins=10,kde=True,\n",
    "              kde_kws={'bw_adjust':0.9,'bw_method':'scott'},\n",
    "              stat='density', height=6,aspect=1.5).set(ylabel=None)\n",
    "\n",
    "g.set(title='Time of death distribution plot: Stage III')\n",
    "g.set(xlabel='Time of death Stage III', ylabel='Density')\n",
    "plt.axvline(dp2[dp2[\"E\"]==\"III\"][\"tiempo_defuncion\"].mean(),c=\"red\", ls='--',lw=2.5);"
   ]
  },
  {
   "cell_type": "code",
   "execution_count": 119,
   "id": "c7bfc3ef-7b93-4413-b704-c6edac3521a4",
   "metadata": {},
   "outputs": [
    {
     "data": {
      "image/png": "[encoded data removed]",
      "text/plain": [
       "<Figure size 504x360 with 1 Axes>"
      ]
     },
     "metadata": {},
     "output_type": "display_data"
    }
   ],
   "source": [
    "plt.figure(figsize = (7,5))\n",
    "g=sns.countplot(x='E',\n",
    "                data=dp2[dp2[\"E\"]==\"III\"],\n",
    "                hue=\"Estado_Vital\",hue_order=[\"Muerto\",\"Vivo\"],\n",
    "                saturation=1)\n",
    "g.set(ylim=(0, 150))\n",
    "plt.legend(loc='upper left')\n",
    "g.set(title='Countplot Stage III')\n",
    "g.set(xlabel='Stage III', ylabel='Count')\n",
    "for p in g.patches:\n",
    "    g.annotate('{:.2f}%'.format(p.get_height()*100/dp2[dp2[\"E\"]==\"III\"][\"index\"].count()), (p.get_x()+.15, p.get_height()+2))"
   ]
  },
  {
   "cell_type": "code",
   "execution_count": 106,
   "id": "3a285a3e-e013-4b11-966f-3a0aafff6156",
   "metadata": {},
   "outputs": [
    {
     "data": {
      "image/png": "[encoded data removed]",
      "text/plain": [
       "<Figure size 648x432 with 1 Axes>"
      ]
     },
     "metadata": {},
     "output_type": "display_data"
    }
   ],
   "source": [
    "g=sns.displot(data=dp2[dp2[\"E\"]==\"IV\"],\n",
    "              x=\"tiempo_defuncion\",\n",
    "              bins=10,kde=True,\n",
    "              kde_kws={'bw_adjust':0.9,'bw_method':'scott'},\n",
    "              stat='density', height=6,aspect=1.5).set(ylabel=None)\n",
    "\n",
    "g.set(title='Time of death distribution plot: Stage IV')\n",
    "g.set(xlabel='Time of death Stage IV', ylabel='Density')\n",
    "plt.axvline(dp2[dp2[\"E\"]==\"IV\"][\"tiempo_defuncion\"].mean(),c=\"red\", ls='--',lw=2.5);"
   ]
  },
  {
   "cell_type": "code",
   "execution_count": 120,
   "id": "8717837e-8e04-4bb7-8a16-461c99be0a0d",
   "metadata": {},
   "outputs": [
    {
     "data": {
      "image/png": "[encoded data removed]",
      "text/plain": [
       "<Figure size 504x360 with 1 Axes>"
      ]
     },
     "metadata": {},
     "output_type": "display_data"
    }
   ],
   "source": [
    "plt.figure(figsize = (7,5))\n",
    "g=sns.countplot(x='E',\n",
    "                data=dp2[dp2[\"E\"]==\"IV\"],\n",
    "                hue=\"Estado_Vital\",hue_order=[\"Muerto\",\"Vivo\"],\n",
    "                saturation=1)\n",
    "g.set(ylim=(0, 520))\n",
    "plt.legend(loc='upper right')\n",
    "g.set(title='Countplot Stage IV')\n",
    "g.set(xlabel='Stage IV', ylabel='Count')\n",
    "for p in g.patches:\n",
    "    g.annotate('{:.2f}%'.format(p.get_height()*100/dp2[dp2[\"E\"]==\"IV\"][\"index\"].count()), (p.get_x()+.15, p.get_height()+2))"
   ]
  },
  {
   "cell_type": "markdown",
   "id": "8c8aad7d-fb7f-4dbc-ac20-f2125daeba1b",
   "metadata": {
    "tags": []
   },
   "source": [
    "### Radiotherapy"
   ]
  },
  {
   "cell_type": "code",
   "execution_count": 107,
   "id": "45fd3d96-2ab2-46ea-b365-aecb16da8cf9",
   "metadata": {},
   "outputs": [
    {
     "data": {
      "image/png": "[encoded data removed]",
      "text/plain": [
       "<Figure size 648x432 with 1 Axes>"
      ]
     },
     "metadata": {},
     "output_type": "display_data"
    }
   ],
   "source": [
    "g=sns.displot(data=dp2[(dp2[\"Radioterapia\"]==1)],\n",
    "              x=\"tiempo_defuncion\",\n",
    "            bins=25,kde=True,\n",
    "            kde_kws={'bw_adjust':0.9,'bw_method':'scott'},\n",
    "            stat='density', height=6,aspect=1.5).set(ylabel=None)\n",
    "\n",
    "g.set(title='Time of death distribution plot: Radiotherapy patients')\n",
    "g.set(xlabel='Time of death', ylabel='Density')\n",
    "plt.axvline(dp2[dp2[\"Radioterapia\"]==1][\"tiempo_defuncion\"].mean(),c=\"red\", ls='--',lw=2.5);"
   ]
  },
  {
   "cell_type": "code",
   "execution_count": 108,
   "id": "3787661a-a388-4170-b905-73d609ddcce5",
   "metadata": {},
   "outputs": [
    {
     "data": {
      "image/png": "[encoded data removed]",
      "text/plain": [
       "<Figure size 648x432 with 1 Axes>"
      ]
     },
     "metadata": {},
     "output_type": "display_data"
    }
   ],
   "source": [
    "g=sns.displot(data=dp2[dp2[\"Radioterapia\"]==0],x=\"tiempo_defuncion\",\n",
    "            bins=25,kde=True,\n",
    "            kde_kws={'bw_adjust':0.9,'bw_method':'scott'},\n",
    "            stat='density', height=6,aspect=1.5).set(ylabel=None)\n",
    "\n",
    "g.set(title='Time of death distribution plot: Patients without radiotherapy')\n",
    "g.set(xlabel='Time of death', ylabel='Density')\n",
    "plt.axvline(dp2[dp2[\"Radioterapia\"]==0][\"tiempo_defuncion\"].mean(),c=\"red\", ls='--',lw=2.5);"
   ]
  },
  {
   "cell_type": "markdown",
   "id": "7c6db825-8854-4d40-8a25-214ec56d20c9",
   "metadata": {
    "tags": []
   },
   "source": [
    "### Survival"
   ]
  },
  {
   "cell_type": "code",
   "execution_count": 53,
   "id": "0818b2fa-3acf-4673-9a8d-1999e806b67f",
   "metadata": {},
   "outputs": [],
   "source": [
    "from lifelines import KaplanMeierFitter\n",
    "from lifelines.utils import survival_events_from_table\n",
    "from lifelines.utils import survival_table_from_events"
   ]
  },
  {
   "cell_type": "code",
   "execution_count": 54,
   "id": "32b27b4e-769d-4099-876d-d6ca394d7b31",
   "metadata": {
    "tags": []
   },
   "outputs": [],
   "source": [
    "df_survival=dp2.assign(R=dp2[\"Radioterapia\"],\n",
    "                       C=lambda dataset:dataset[\"Causa_Defuncion\"].apply(lambda row:1 if row==\"Otros\" or row!=np.nan else 0),\n",
    "                       S=lambda dataset:dataset[\"Estado_Vital\"].apply(lambda row:1 if row==\"Muerto\" \n",
    "                                                                                   else 0 if row==\"Vivo\" \n",
    "                                                                                   else np.nan),\n",
    "                       tiempo_vivo=dp2[\"tiempo_vivo\"].replace(np.nan,\"\"),\n",
    "                       tiempo_defuncion=dp2[\"tiempo_defuncion\"].replace(np.nan,\"\"))"
   ]
  },
  {
   "cell_type": "code",
   "execution_count": 55,
   "id": "3f27be66-d391-40c9-b885-715a25ff9120",
   "metadata": {},
   "outputs": [],
   "source": [
    "df_survival=df_survival.assign(T=lambda dataset:((dataset[\"tiempo_defuncion\"].astype(\"str\"))+dataset[\"tiempo_vivo\"].astype(\"str\")).astype(\"float\"))"
   ]
  },
  {
   "cell_type": "code",
   "execution_count": 56,
   "id": "7df132d0-a4e0-4eda-9cdb-31a59d025b47",
   "metadata": {},
   "outputs": [],
   "source": [
    "df_survival=df_survival.assign(T=round(df_survival[\"T\"],0))"
   ]
  },
  {
   "cell_type": "code",
   "execution_count": 57,
   "id": "c2f355a8-f473-4428-b249-189cd86ecff5",
   "metadata": {},
   "outputs": [],
   "source": [
    "df_survival=df_survival[[\"T\",\"S\",\"C\",\"E\",\"R\"]].dropna(subset=[\"E\"])"
   ]
  },
  {
   "cell_type": "code",
   "execution_count": 58,
   "id": "796488b1-4e74-40ff-9db0-1bf563a67381",
   "metadata": {},
   "outputs": [],
   "source": [
    "df_survival.set_index(\"T\",inplace=True,drop=False)"
   ]
  },
  {
   "cell_type": "code",
   "execution_count": 59,
   "id": "a505f826-fd15-4aaa-92b1-5ddfb232b47f",
   "metadata": {},
   "outputs": [],
   "source": [
    "time, event, weight = survival_events_from_table(df_survival,\n",
    "                                                 observed_deaths_col=\"S\",\n",
    "                                                 censored_col=\"C\")"
   ]
  },
  {
   "cell_type": "code",
   "execution_count": 60,
   "id": "cbcd8289-89d8-41ea-a8c7-09c68618bbdf",
   "metadata": {},
   "outputs": [
    {
     "name": "stdout",
     "output_type": "stream",
     "text": [
      "          removed  observed  censored  entrance  at_risk\n",
      "event_at                                                \n",
      "0.0            57        57         0      1186     1186\n",
      "1.0           101       101         0         0     1129\n",
      "2.0           109       109         0         0     1028\n",
      "3.0            57        57         0         0      919\n",
      "4.0            58        58         0         0      862\n"
     ]
    }
   ],
   "source": [
    "table=survival_table_from_events(df_survival[\"T\"],\n",
    "                                 df_survival[\"S\"])\n",
    "print(table.head())"
   ]
  },
  {
   "cell_type": "code",
   "execution_count": 61,
   "id": "4306e6a8-9eed-401c-9dc6-8821b140aee8",
   "metadata": {},
   "outputs": [],
   "source": [
    "kmf=KaplanMeierFitter()"
   ]
  },
  {
   "cell_type": "code",
   "execution_count": 110,
   "id": "950d835b-7ce3-4cb3-b902-46cd6d005652",
   "metadata": {},
   "outputs": [
    {
     "data": {
      "image/png": "[encoded data removed]",
      "text/plain": [
       "<Figure size 576x432 with 1 Axes>"
      ]
     },
     "metadata": {},
     "output_type": "display_data"
    }
   ],
   "source": [
    "plt.figure(figsize = (8,6))\n",
    "timelines=range(0,25,5)\n",
    "kmf.fit(time,event,label=\"Survival Curve\", timeline=timelines)\n",
    "fig=kmf.plot_survival_function(show_censors=False)\n",
    "fig.set(ylim=(0, 1.1),xlim=(0, 23.0))\n",
    "fig.set_title('Survival Curve of all patients')\n",
    "\n",
    "i=0\n",
    "for item in kmf.survival_function_[\"Survival Curve\"]:\n",
    "    if item>.5:\n",
    "        fig.annotate(str(round(item,2)),xy=(i+2,round(item,2)+.05))\n",
    "    else:\n",
    "        fig.annotate(str(round(item,2)),xy=(i+0.8,round(item,2)))\n",
    "    i+=5"
   ]
  },
  {
   "cell_type": "code",
   "execution_count": 63,
   "id": "febe7375-6be5-4430-a521-407ab4df0663",
   "metadata": {},
   "outputs": [
    {
     "data": {
      "text/html": [
       "<div>\n",
       "<style scoped>\n",
       "    .dataframe tbody tr th:only-of-type {\n",
       "        vertical-align: middle;\n",
       "    }\n",
       "\n",
       "    .dataframe tbody tr th {\n",
       "        vertical-align: top;\n",
       "    }\n",
       "\n",
       "    .dataframe thead th {\n",
       "        text-align: right;\n",
       "    }\n",
       "</style>\n",
       "<table border=\"1\" class=\"dataframe\">\n",
       "  <thead>\n",
       "    <tr style=\"text-align: right;\">\n",
       "      <th></th>\n",
       "      <th>Survival Curve</th>\n",
       "    </tr>\n",
       "    <tr>\n",
       "      <th>timeline</th>\n",
       "      <th></th>\n",
       "    </tr>\n",
       "  </thead>\n",
       "  <tbody>\n",
       "    <tr>\n",
       "      <th>0.0</th>\n",
       "      <td>0.968818</td>\n",
       "    </tr>\n",
       "    <tr>\n",
       "      <th>5.0</th>\n",
       "      <td>0.739353</td>\n",
       "    </tr>\n",
       "    <tr>\n",
       "      <th>10.0</th>\n",
       "      <td>0.603386</td>\n",
       "    </tr>\n",
       "    <tr>\n",
       "      <th>15.0</th>\n",
       "      <td>0.539839</td>\n",
       "    </tr>\n",
       "    <tr>\n",
       "      <th>20.0</th>\n",
       "      <td>0.490894</td>\n",
       "    </tr>\n",
       "  </tbody>\n",
       "</table>\n",
       "</div>"
      ],
      "text/plain": [
       "          Survival Curve\n",
       "timeline                \n",
       "0.0             0.968818\n",
       "5.0             0.739353\n",
       "10.0            0.603386\n",
       "15.0            0.539839\n",
       "20.0            0.490894"
      ]
     },
     "execution_count": 63,
     "metadata": {},
     "output_type": "execute_result"
    }
   ],
   "source": [
    "kmf.survival_function_"
   ]
  },
  {
   "cell_type": "code",
   "execution_count": 111,
   "id": "36b22c60-038f-414c-a57b-78128d742148",
   "metadata": {},
   "outputs": [
    {
     "data": {
      "text/plain": [
       "Text(0.5, 1.0, 'Survival Curve grouped by stages')"
      ]
     },
     "execution_count": 111,
     "metadata": {},
     "output_type": "execute_result"
    },
    {
     "data": {
      "image/png": "[encoded data removed]",
      "text/plain": [
       "<Figure size 576x432 with 1 Axes>"
      ]
     },
     "metadata": {},
     "output_type": "display_data"
    }
   ],
   "source": [
    "plt.figure(figsize = (8,6))\n",
    "kmf.fit(df_survival[df_survival[\"E\"]==\"I\"][\"T\"],\n",
    "        df_survival[df_survival[\"E\"]==\"I\"][\"S\"],\n",
    "        label=\"Stage I\")\n",
    "df_s1=kmf.survival_function_\n",
    "ax=kmf.plot()\n",
    "kmf.fit(df_survival[df_survival[\"E\"]==\"II\"][\"T\"],\n",
    "        df_survival[df_survival[\"E\"]==\"II\"][\"S\"],\n",
    "        label=\"Stage II\")\n",
    "df_s2=kmf.survival_function_\n",
    "ax=kmf.plot(ax=ax)\n",
    "kmf.fit(df_survival[df_survival[\"E\"]==\"III\"][\"T\"],\n",
    "        df_survival[df_survival[\"E\"]==\"III\"][\"S\"],\n",
    "        label=\"Stage III\")\n",
    "df_s3=kmf.survival_function_\n",
    "ax=kmf.plot(ax=ax)\n",
    "kmf.fit(df_survival[df_survival[\"E\"]==\"IV\"][\"T\"],\n",
    "        df_survival[df_survival[\"E\"]==\"IV\"][\"S\"],\n",
    "        label=\"Stage IV\")\n",
    "df_s4=kmf.survival_function_\n",
    "ax=kmf.plot(ax=ax)\n",
    "ax.legend(loc='center left', bbox_to_anchor=(1, 0.5));\n",
    "ax.set_title('Survival Curve grouped by stages')"
   ]
  },
  {
   "cell_type": "code",
   "execution_count": 65,
   "id": "1bc78ef6-31d2-4239-a58f-0d48568d6177",
   "metadata": {},
   "outputs": [
    {
     "data": {
      "text/html": [
       "<div>\n",
       "<style scoped>\n",
       "    .dataframe tbody tr th:only-of-type {\n",
       "        vertical-align: middle;\n",
       "    }\n",
       "\n",
       "    .dataframe tbody tr th {\n",
       "        vertical-align: top;\n",
       "    }\n",
       "\n",
       "    .dataframe thead th {\n",
       "        text-align: right;\n",
       "    }\n",
       "</style>\n",
       "<table border=\"1\" class=\"dataframe\">\n",
       "  <thead>\n",
       "    <tr style=\"text-align: right;\">\n",
       "      <th></th>\n",
       "      <th>Stage I</th>\n",
       "      <th>Stage II</th>\n",
       "      <th>Stage III</th>\n",
       "      <th>Stage IV</th>\n",
       "    </tr>\n",
       "    <tr>\n",
       "      <th>timeline</th>\n",
       "      <th></th>\n",
       "      <th></th>\n",
       "      <th></th>\n",
       "      <th></th>\n",
       "    </tr>\n",
       "  </thead>\n",
       "  <tbody>\n",
       "    <tr>\n",
       "      <th>0.0</th>\n",
       "      <td>0.976190</td>\n",
       "      <td>0.988806</td>\n",
       "      <td>0.995146</td>\n",
       "      <td>0.918790</td>\n",
       "    </tr>\n",
       "    <tr>\n",
       "      <th>2.0</th>\n",
       "      <td>0.940476</td>\n",
       "      <td>0.962687</td>\n",
       "      <td>0.946602</td>\n",
       "      <td>0.616242</td>\n",
       "    </tr>\n",
       "    <tr>\n",
       "      <th>3.0</th>\n",
       "      <td>0.916667</td>\n",
       "      <td>0.951493</td>\n",
       "      <td>0.912621</td>\n",
       "      <td>0.544586</td>\n",
       "    </tr>\n",
       "    <tr>\n",
       "      <th>5.0</th>\n",
       "      <td>0.892857</td>\n",
       "      <td>0.884328</td>\n",
       "      <td>0.859223</td>\n",
       "      <td>0.436306</td>\n",
       "    </tr>\n",
       "    <tr>\n",
       "      <th>7.0</th>\n",
       "      <td>0.845238</td>\n",
       "      <td>0.835821</td>\n",
       "      <td>0.810680</td>\n",
       "      <td>0.332803</td>\n",
       "    </tr>\n",
       "    <tr>\n",
       "      <th>8.0</th>\n",
       "      <td>0.821429</td>\n",
       "      <td>0.809701</td>\n",
       "      <td>0.766990</td>\n",
       "      <td>0.305732</td>\n",
       "    </tr>\n",
       "    <tr>\n",
       "      <th>10.0</th>\n",
       "      <td>0.809524</td>\n",
       "      <td>0.779851</td>\n",
       "      <td>0.718447</td>\n",
       "      <td>0.272293</td>\n",
       "    </tr>\n",
       "    <tr>\n",
       "      <th>11.0</th>\n",
       "      <td>0.796032</td>\n",
       "      <td>0.763519</td>\n",
       "      <td>0.707394</td>\n",
       "      <td>0.250969</td>\n",
       "    </tr>\n",
       "    <tr>\n",
       "      <th>12.0</th>\n",
       "      <td>0.796032</td>\n",
       "      <td>0.735240</td>\n",
       "      <td>0.686988</td>\n",
       "      <td>0.235160</td>\n",
       "    </tr>\n",
       "    <tr>\n",
       "      <th>13.0</th>\n",
       "      <td>0.773288</td>\n",
       "      <td>0.723476</td>\n",
       "      <td>0.669596</td>\n",
       "      <td>0.232735</td>\n",
       "    </tr>\n",
       "    <tr>\n",
       "      <th>14.0</th>\n",
       "      <td>0.773288</td>\n",
       "      <td>0.716586</td>\n",
       "      <td>0.647996</td>\n",
       "      <td>0.232735</td>\n",
       "    </tr>\n",
       "    <tr>\n",
       "      <th>15.0</th>\n",
       "      <td>0.773288</td>\n",
       "      <td>0.708712</td>\n",
       "      <td>0.647996</td>\n",
       "      <td>0.225989</td>\n",
       "    </tr>\n",
       "    <tr>\n",
       "      <th>16.0</th>\n",
       "      <td>0.773288</td>\n",
       "      <td>0.708712</td>\n",
       "      <td>0.647996</td>\n",
       "      <td>0.225989</td>\n",
       "    </tr>\n",
       "    <tr>\n",
       "      <th>17.0</th>\n",
       "      <td>0.773288</td>\n",
       "      <td>0.708712</td>\n",
       "      <td>0.647996</td>\n",
       "      <td>0.220195</td>\n",
       "    </tr>\n",
       "    <tr>\n",
       "      <th>18.0</th>\n",
       "      <td>0.773288</td>\n",
       "      <td>0.708712</td>\n",
       "      <td>0.647996</td>\n",
       "      <td>0.220195</td>\n",
       "    </tr>\n",
       "    <tr>\n",
       "      <th>20.0</th>\n",
       "      <td>0.773288</td>\n",
       "      <td>0.708712</td>\n",
       "      <td>0.647996</td>\n",
       "      <td>0.186319</td>\n",
       "    </tr>\n",
       "  </tbody>\n",
       "</table>\n",
       "</div>"
      ],
      "text/plain": [
       "           Stage I  Stage II  Stage III  Stage IV\n",
       "timeline                                         \n",
       "0.0       0.976190  0.988806   0.995146  0.918790\n",
       "2.0       0.940476  0.962687   0.946602  0.616242\n",
       "3.0       0.916667  0.951493   0.912621  0.544586\n",
       "5.0       0.892857  0.884328   0.859223  0.436306\n",
       "7.0       0.845238  0.835821   0.810680  0.332803\n",
       "8.0       0.821429  0.809701   0.766990  0.305732\n",
       "10.0      0.809524  0.779851   0.718447  0.272293\n",
       "11.0      0.796032  0.763519   0.707394  0.250969\n",
       "12.0      0.796032  0.735240   0.686988  0.235160\n",
       "13.0      0.773288  0.723476   0.669596  0.232735\n",
       "14.0      0.773288  0.716586   0.647996  0.232735\n",
       "15.0      0.773288  0.708712   0.647996  0.225989\n",
       "16.0      0.773288  0.708712   0.647996  0.225989\n",
       "17.0      0.773288  0.708712   0.647996  0.220195\n",
       "18.0      0.773288  0.708712   0.647996  0.220195\n",
       "20.0      0.773288  0.708712   0.647996  0.186319"
      ]
     },
     "execution_count": 65,
     "metadata": {},
     "output_type": "execute_result"
    }
   ],
   "source": [
    "df_stages=pd.merge(df_s1,df_s2,on='timeline')\n",
    "df_stages=pd.merge(df_stages,df_s3,on='timeline')\n",
    "df_stages=pd.merge(df_stages,df_s4,on='timeline')\n",
    "df_stages"
   ]
  },
  {
   "cell_type": "code",
   "execution_count": 113,
   "id": "69b0441b-9582-4a04-a4c2-e392753ff1a2",
   "metadata": {},
   "outputs": [
    {
     "data": {
      "image/png": "[encoded data removed]",
      "text/plain": [
       "<Figure size 576x432 with 1 Axes>"
      ]
     },
     "metadata": {},
     "output_type": "display_data"
    }
   ],
   "source": [
    "plt.figure(figsize = (8,6))\n",
    "kmf.fit(df_survival[df_survival[\"R\"]==1][\"T\"],df_survival[df_survival[\"R\"]==1][\"S\"],label=\"With radiotherapy\")\n",
    "df_R1=kmf.survival_function_\n",
    "ax=kmf.plot()\n",
    "kmf.fit(df_survival[df_survival[\"R\"]==0][\"T\"],df_survival[df_survival[\"R\"]==0][\"S\"],label=\"Without radiotherapy\")\n",
    "df_R0=kmf.survival_function_\n",
    "ax=kmf.plot(ax=ax)\n",
    "ax.set_title('Survival Curve patients with/without radiotherapy');"
   ]
  },
  {
   "cell_type": "code",
   "execution_count": 67,
   "id": "766c5d2c-d85b-430a-89ac-67b6d95cb080",
   "metadata": {},
   "outputs": [
    {
     "data": {
      "text/html": [
       "<div>\n",
       "<style scoped>\n",
       "    .dataframe tbody tr th:only-of-type {\n",
       "        vertical-align: middle;\n",
       "    }\n",
       "\n",
       "    .dataframe tbody tr th {\n",
       "        vertical-align: top;\n",
       "    }\n",
       "\n",
       "    .dataframe thead th {\n",
       "        text-align: right;\n",
       "    }\n",
       "</style>\n",
       "<table border=\"1\" class=\"dataframe\">\n",
       "  <thead>\n",
       "    <tr style=\"text-align: right;\">\n",
       "      <th></th>\n",
       "      <th>Con Radioterapia</th>\n",
       "      <th>Sin Radioterapia</th>\n",
       "    </tr>\n",
       "    <tr>\n",
       "      <th>timeline</th>\n",
       "      <th></th>\n",
       "      <th></th>\n",
       "    </tr>\n",
       "  </thead>\n",
       "  <tbody>\n",
       "    <tr>\n",
       "      <th>0.0</th>\n",
       "      <td>0.996016</td>\n",
       "      <td>0.940107</td>\n",
       "    </tr>\n",
       "    <tr>\n",
       "      <th>1.0</th>\n",
       "      <td>0.988048</td>\n",
       "      <td>0.834225</td>\n",
       "    </tr>\n",
       "    <tr>\n",
       "      <th>2.0</th>\n",
       "      <td>0.952191</td>\n",
       "      <td>0.727273</td>\n",
       "    </tr>\n",
       "    <tr>\n",
       "      <th>3.0</th>\n",
       "      <td>0.920319</td>\n",
       "      <td>0.674866</td>\n",
       "    </tr>\n",
       "    <tr>\n",
       "      <th>4.0</th>\n",
       "      <td>0.904382</td>\n",
       "      <td>0.617112</td>\n",
       "    </tr>\n",
       "    <tr>\n",
       "      <th>5.0</th>\n",
       "      <td>0.876494</td>\n",
       "      <td>0.580749</td>\n",
       "    </tr>\n",
       "    <tr>\n",
       "      <th>6.0</th>\n",
       "      <td>0.860558</td>\n",
       "      <td>0.527273</td>\n",
       "    </tr>\n",
       "    <tr>\n",
       "      <th>7.0</th>\n",
       "      <td>0.828685</td>\n",
       "      <td>0.495187</td>\n",
       "    </tr>\n",
       "    <tr>\n",
       "      <th>8.0</th>\n",
       "      <td>0.800797</td>\n",
       "      <td>0.465241</td>\n",
       "    </tr>\n",
       "    <tr>\n",
       "      <th>9.0</th>\n",
       "      <td>0.792829</td>\n",
       "      <td>0.445989</td>\n",
       "    </tr>\n",
       "    <tr>\n",
       "      <th>10.0</th>\n",
       "      <td>0.772908</td>\n",
       "      <td>0.429947</td>\n",
       "    </tr>\n",
       "    <tr>\n",
       "      <th>11.0</th>\n",
       "      <td>0.749767</td>\n",
       "      <td>0.412975</td>\n",
       "    </tr>\n",
       "    <tr>\n",
       "      <th>12.0</th>\n",
       "      <td>0.727218</td>\n",
       "      <td>0.395601</td>\n",
       "    </tr>\n",
       "    <tr>\n",
       "      <th>13.0</th>\n",
       "      <td>0.711579</td>\n",
       "      <td>0.389089</td>\n",
       "    </tr>\n",
       "    <tr>\n",
       "      <th>14.0</th>\n",
       "      <td>0.701963</td>\n",
       "      <td>0.385255</td>\n",
       "    </tr>\n",
       "    <tr>\n",
       "      <th>15.0</th>\n",
       "      <td>0.701963</td>\n",
       "      <td>0.378293</td>\n",
       "    </tr>\n",
       "    <tr>\n",
       "      <th>16.0</th>\n",
       "      <td>0.701963</td>\n",
       "      <td>0.378293</td>\n",
       "    </tr>\n",
       "    <tr>\n",
       "      <th>17.0</th>\n",
       "      <td>0.701963</td>\n",
       "      <td>0.374225</td>\n",
       "    </tr>\n",
       "    <tr>\n",
       "      <th>18.0</th>\n",
       "      <td>0.701963</td>\n",
       "      <td>0.374225</td>\n",
       "    </tr>\n",
       "    <tr>\n",
       "      <th>19.0</th>\n",
       "      <td>0.701963</td>\n",
       "      <td>0.374225</td>\n",
       "    </tr>\n",
       "    <tr>\n",
       "      <th>20.0</th>\n",
       "      <td>0.701963</td>\n",
       "      <td>0.338585</td>\n",
       "    </tr>\n",
       "  </tbody>\n",
       "</table>\n",
       "</div>"
      ],
      "text/plain": [
       "          Con Radioterapia  Sin Radioterapia\n",
       "timeline                                    \n",
       "0.0               0.996016          0.940107\n",
       "1.0               0.988048          0.834225\n",
       "2.0               0.952191          0.727273\n",
       "3.0               0.920319          0.674866\n",
       "4.0               0.904382          0.617112\n",
       "5.0               0.876494          0.580749\n",
       "6.0               0.860558          0.527273\n",
       "7.0               0.828685          0.495187\n",
       "8.0               0.800797          0.465241\n",
       "9.0               0.792829          0.445989\n",
       "10.0              0.772908          0.429947\n",
       "11.0              0.749767          0.412975\n",
       "12.0              0.727218          0.395601\n",
       "13.0              0.711579          0.389089\n",
       "14.0              0.701963          0.385255\n",
       "15.0              0.701963          0.378293\n",
       "16.0              0.701963          0.378293\n",
       "17.0              0.701963          0.374225\n",
       "18.0              0.701963          0.374225\n",
       "19.0              0.701963          0.374225\n",
       "20.0              0.701963          0.338585"
      ]
     },
     "execution_count": 67,
     "metadata": {},
     "output_type": "execute_result"
    }
   ],
   "source": [
    "df_R=pd.merge(df_R1,df_R0,on='timeline')\n",
    "df_R"
   ]
  },
  {
   "cell_type": "markdown",
   "id": "45275611-fd3b-405d-9dc1-0e9039e663e5",
   "metadata": {},
   "source": [
    "### Recurrence"
   ]
  },
  {
   "cell_type": "code",
   "execution_count": 126,
   "id": "a0c3765a-94c1-4426-826b-a01ed48fa95a",
   "metadata": {},
   "outputs": [
    {
     "data": {
      "image/png": "[encoded data removed]",
      "text/plain": [
       "<Figure size 576x432 with 1 Axes>"
      ]
     },
     "metadata": {},
     "output_type": "display_data"
    }
   ],
   "source": [
    "plt.figure(figsize = (8,6))\n",
    "g=sns.countplot(x='Recurrecia',\n",
    "                data=dp2,\n",
    "                saturation=1)\n",
    "g.set(ylim=(0, 1300))\n",
    "\n",
    "labels = ([\"No\",\"Yes\"])\n",
    "g.set_xticklabels(labels)\n",
    "g.set(xlabel='Recurrence', ylabel='Count')\n",
    "g.set(title='Countplot Recurrence II')\n",
    "for p in g.patches:\n",
    "    g.annotate('{:.2f} [%]'.format(p.get_height()*100/dp2['Edad_diag'].count()), (p.get_x()+0.32, p.get_height()+50))"
   ]
  },
  {
   "cell_type": "code",
   "execution_count": 69,
   "id": "8f9a3cc0-fcce-49d1-8aae-f13c7b6312c4",
   "metadata": {},
   "outputs": [],
   "source": [
    "df_recurr=dp2.assign(C=lambda dataset:dataset[\"Aband_Tto\"],\n",
    "                     S=lambda dataset:dataset[\"Recurrecia\"])"
   ]
  },
  {
   "cell_type": "code",
   "execution_count": 70,
   "id": "b2e0d5bc-18aa-4ad9-a490-5022934bb6d8",
   "metadata": {},
   "outputs": [],
   "source": [
    "df_recurr=df_recurr.assign(T=round(df_recurr[\"tiempo_recurr\"],0))"
   ]
  },
  {
   "cell_type": "code",
   "execution_count": 71,
   "id": "beff4ddb-4409-4195-946b-9ed82a3fe225",
   "metadata": {},
   "outputs": [],
   "source": [
    "df_recurr=df_recurr[[\"T\",\"S\",\"C\",\"E\"]].dropna(subset=[\"E\"])\n",
    "df_recurr.replace(np.nan,0,inplace=True)"
   ]
  },
  {
   "cell_type": "code",
   "execution_count": 72,
   "id": "f6ae0444-dcb2-461f-823d-9d7da94c2ed0",
   "metadata": {},
   "outputs": [],
   "source": [
    "df_recurr.set_index(\"T\",inplace=True,drop=False)"
   ]
  },
  {
   "cell_type": "code",
   "execution_count": 73,
   "id": "8b1edc9b-3f72-44e7-92e1-3f5f954dd229",
   "metadata": {},
   "outputs": [],
   "source": [
    "time, event, weight = survival_events_from_table(df_recurr,\n",
    "                                                 observed_deaths_col=\"S\",\n",
    "                                                 censored_col=\"C\")"
   ]
  },
  {
   "cell_type": "code",
   "execution_count": 74,
   "id": "65d63482-883a-4f33-917e-3558314a5b12",
   "metadata": {},
   "outputs": [
    {
     "name": "stdout",
     "output_type": "stream",
     "text": [
      "          removed  observed  censored  entrance  at_risk\n",
      "event_at                                                \n",
      "0.0           380        50       330      1186     1186\n",
      "1.0            95        95         0         0      806\n",
      "2.0            90        90         0         0      711\n",
      "3.0            44        44         0         0      621\n",
      "4.0            47        47         0         0      577\n"
     ]
    }
   ],
   "source": [
    "table=survival_table_from_events(df_recurr[\"T\"],\n",
    "                                 df_recurr[\"S\"])\n",
    "print(table.head())"
   ]
  },
  {
   "cell_type": "code",
   "execution_count": 75,
   "id": "2d08bd06-0200-4cd5-9f66-6224828cce4d",
   "metadata": {},
   "outputs": [],
   "source": [
    "kmf2=KaplanMeierFitter()"
   ]
  },
  {
   "cell_type": "code",
   "execution_count": 127,
   "id": "cd6e269b-d5c4-42c9-a2bb-08eed6acecce",
   "metadata": {},
   "outputs": [
    {
     "data": {
      "image/png": "[encoded data removed]",
      "text/plain": [
       "<Figure size 576x432 with 1 Axes>"
      ]
     },
     "metadata": {},
     "output_type": "display_data"
    }
   ],
   "source": [
    "plt.figure(figsize = (8,6))\n",
    "timelines=range(0,25,5)\n",
    "kmf2.fit(time,event,label=\"Recurrence Curve\", timeline=timelines)\n",
    "fig=kmf2.plot_survival_function(show_censors=False)\n",
    "fig.set(ylim=(0, 1.1),xlim=(0, 23.0))\n",
    "fig.set_title('Recurrence Curve of all patients')\n",
    "\n",
    "i=0\n",
    "for item in kmf2.survival_function_[\"Recurrence Curve\"]:\n",
    "    if item>.03:\n",
    "        fig.annotate(str(round(item,2)),xy=(i+2,round(item,2)+.05))\n",
    "    else:\n",
    "        fig.annotate(str(round(item,2)),xy=(i+0.8,round(item,2)))\n",
    "    i+=5"
   ]
  },
  {
   "cell_type": "code",
   "execution_count": 77,
   "id": "beed0122-0cd6-4a2b-a507-7fafacbe5a21",
   "metadata": {},
   "outputs": [
    {
     "data": {
      "text/html": [
       "<div>\n",
       "<style scoped>\n",
       "    .dataframe tbody tr th:only-of-type {\n",
       "        vertical-align: middle;\n",
       "    }\n",
       "\n",
       "    .dataframe tbody tr th {\n",
       "        vertical-align: top;\n",
       "    }\n",
       "\n",
       "    .dataframe thead th {\n",
       "        text-align: right;\n",
       "    }\n",
       "</style>\n",
       "<table border=\"1\" class=\"dataframe\">\n",
       "  <thead>\n",
       "    <tr style=\"text-align: right;\">\n",
       "      <th></th>\n",
       "      <th>Recurrence Curve</th>\n",
       "    </tr>\n",
       "    <tr>\n",
       "      <th>timeline</th>\n",
       "      <th></th>\n",
       "    </tr>\n",
       "  </thead>\n",
       "  <tbody>\n",
       "    <tr>\n",
       "      <th>0.0</th>\n",
       "      <td>0.949495</td>\n",
       "    </tr>\n",
       "    <tr>\n",
       "      <th>5.0</th>\n",
       "      <td>0.623724</td>\n",
       "    </tr>\n",
       "    <tr>\n",
       "      <th>10.0</th>\n",
       "      <td>0.259126</td>\n",
       "    </tr>\n",
       "    <tr>\n",
       "      <th>15.0</th>\n",
       "      <td>0.026448</td>\n",
       "    </tr>\n",
       "    <tr>\n",
       "      <th>20.0</th>\n",
       "      <td>0.011652</td>\n",
       "    </tr>\n",
       "  </tbody>\n",
       "</table>\n",
       "</div>"
      ],
      "text/plain": [
       "          Recurrence Curve\n",
       "timeline                  \n",
       "0.0               0.949495\n",
       "5.0               0.623724\n",
       "10.0              0.259126\n",
       "15.0              0.026448\n",
       "20.0              0.011652"
      ]
     },
     "execution_count": 77,
     "metadata": {},
     "output_type": "execute_result"
    }
   ],
   "source": [
    "kmf2.survival_function_"
   ]
  },
  {
   "cell_type": "code",
   "execution_count": 128,
   "id": "acc81f25-0b05-4e65-ae5d-6732935d1f11",
   "metadata": {},
   "outputs": [
    {
     "data": {
      "text/plain": [
       "Text(0.5, 1.0, 'Recurrence Curve grouped by stages')"
      ]
     },
     "execution_count": 128,
     "metadata": {},
     "output_type": "execute_result"
    },
    {
     "data": {
      "image/png": "[encoded data removed]",
      "text/plain": [
       "<Figure size 576x432 with 1 Axes>"
      ]
     },
     "metadata": {},
     "output_type": "display_data"
    }
   ],
   "source": [
    "plt.figure(figsize = (8,6))\n",
    "kmf2.fit(df_recurr[df_recurr[\"E\"]==\"I\"][\"T\"],df_recurr[df_recurr[\"E\"]==\"I\"][\"S\"],label=\"Stage I\")\n",
    "df2_s1=kmf2.survival_function_\n",
    "ax=kmf2.plot()\n",
    "kmf2.fit(df_recurr[df_recurr[\"E\"]==\"II\"][\"T\"],df_recurr[df_recurr[\"E\"]==\"II\"][\"S\"],label=\"Stage II\")\n",
    "df2_s2=kmf2.survival_function_\n",
    "ax=kmf2.plot(ax=ax)\n",
    "kmf2.fit(df_recurr[df_recurr[\"E\"]==\"III\"][\"T\"],df_recurr[df_recurr[\"E\"]==\"III\"][\"S\"],label=\"Stage III\")\n",
    "df2_s3=kmf2.survival_function_\n",
    "ax=kmf2.plot(ax=ax)\n",
    "kmf2.fit(df_recurr[df_recurr[\"E\"]==\"IV\"][\"T\"],df_recurr[df_recurr[\"E\"]==\"IV\"][\"S\"],label=\"Stage IV\")\n",
    "df2_s4=kmf2.survival_function_\n",
    "ax=kmf2.plot(ax=ax)\n",
    "ax.legend(loc='center left', bbox_to_anchor=(1, 0.5));\n",
    "ax.set_title('Recurrence Curve grouped by stages')"
   ]
  },
  {
   "cell_type": "code",
   "execution_count": 79,
   "id": "2c0163f0-34ab-462f-9fb3-7c551e348d2d",
   "metadata": {},
   "outputs": [
    {
     "data": {
      "text/html": [
       "<div>\n",
       "<style scoped>\n",
       "    .dataframe tbody tr th:only-of-type {\n",
       "        vertical-align: middle;\n",
       "    }\n",
       "\n",
       "    .dataframe tbody tr th {\n",
       "        vertical-align: top;\n",
       "    }\n",
       "\n",
       "    .dataframe thead th {\n",
       "        text-align: right;\n",
       "    }\n",
       "</style>\n",
       "<table border=\"1\" class=\"dataframe\">\n",
       "  <thead>\n",
       "    <tr style=\"text-align: right;\">\n",
       "      <th></th>\n",
       "      <th>Stage I</th>\n",
       "      <th>Stage II</th>\n",
       "      <th>Stage III</th>\n",
       "      <th>Stage IV</th>\n",
       "    </tr>\n",
       "    <tr>\n",
       "      <th>timeline</th>\n",
       "      <th></th>\n",
       "      <th></th>\n",
       "      <th></th>\n",
       "      <th></th>\n",
       "    </tr>\n",
       "  </thead>\n",
       "  <tbody>\n",
       "    <tr>\n",
       "      <th>0.0</th>\n",
       "      <td>0.988095</td>\n",
       "      <td>0.981343</td>\n",
       "      <td>0.980583</td>\n",
       "      <td>0.936306</td>\n",
       "    </tr>\n",
       "    <tr>\n",
       "      <th>1.0</th>\n",
       "      <td>0.948037</td>\n",
       "      <td>0.922006</td>\n",
       "      <td>0.927096</td>\n",
       "      <td>0.750109</td>\n",
       "    </tr>\n",
       "    <tr>\n",
       "      <th>2.0</th>\n",
       "      <td>0.867921</td>\n",
       "      <td>0.858105</td>\n",
       "      <td>0.867667</td>\n",
       "      <td>0.590511</td>\n",
       "    </tr>\n",
       "    <tr>\n",
       "      <th>3.0</th>\n",
       "      <td>0.841216</td>\n",
       "      <td>0.812461</td>\n",
       "      <td>0.814181</td>\n",
       "      <td>0.529332</td>\n",
       "    </tr>\n",
       "    <tr>\n",
       "      <th>4.0</th>\n",
       "      <td>0.801158</td>\n",
       "      <td>0.789639</td>\n",
       "      <td>0.742866</td>\n",
       "      <td>0.457513</td>\n",
       "    </tr>\n",
       "    <tr>\n",
       "      <th>5.0</th>\n",
       "      <td>0.747748</td>\n",
       "      <td>0.766817</td>\n",
       "      <td>0.736923</td>\n",
       "      <td>0.409634</td>\n",
       "    </tr>\n",
       "    <tr>\n",
       "      <th>6.0</th>\n",
       "      <td>0.734395</td>\n",
       "      <td>0.730302</td>\n",
       "      <td>0.713151</td>\n",
       "      <td>0.345795</td>\n",
       "    </tr>\n",
       "    <tr>\n",
       "      <th>7.0</th>\n",
       "      <td>0.680985</td>\n",
       "      <td>0.689222</td>\n",
       "      <td>0.653722</td>\n",
       "      <td>0.303235</td>\n",
       "    </tr>\n",
       "    <tr>\n",
       "      <th>8.0</th>\n",
       "      <td>0.574163</td>\n",
       "      <td>0.534033</td>\n",
       "      <td>0.493263</td>\n",
       "      <td>0.234076</td>\n",
       "    </tr>\n",
       "    <tr>\n",
       "      <th>9.0</th>\n",
       "      <td>0.413932</td>\n",
       "      <td>0.410795</td>\n",
       "      <td>0.380347</td>\n",
       "      <td>0.170237</td>\n",
       "    </tr>\n",
       "    <tr>\n",
       "      <th>10.0</th>\n",
       "      <td>0.320463</td>\n",
       "      <td>0.333200</td>\n",
       "      <td>0.231774</td>\n",
       "      <td>0.122358</td>\n",
       "    </tr>\n",
       "    <tr>\n",
       "      <th>11.0</th>\n",
       "      <td>0.253700</td>\n",
       "      <td>0.287556</td>\n",
       "      <td>0.184231</td>\n",
       "      <td>0.093099</td>\n",
       "    </tr>\n",
       "    <tr>\n",
       "      <th>12.0</th>\n",
       "      <td>0.200290</td>\n",
       "      <td>0.205397</td>\n",
       "      <td>0.136687</td>\n",
       "      <td>0.069159</td>\n",
       "    </tr>\n",
       "    <tr>\n",
       "      <th>13.0</th>\n",
       "      <td>0.120174</td>\n",
       "      <td>0.146060</td>\n",
       "      <td>0.077258</td>\n",
       "      <td>0.045219</td>\n",
       "    </tr>\n",
       "    <tr>\n",
       "      <th>14.0</th>\n",
       "      <td>0.066763</td>\n",
       "      <td>0.073030</td>\n",
       "      <td>0.041600</td>\n",
       "      <td>0.018620</td>\n",
       "    </tr>\n",
       "    <tr>\n",
       "      <th>15.0</th>\n",
       "      <td>0.000000</td>\n",
       "      <td>0.004564</td>\n",
       "      <td>0.011886</td>\n",
       "      <td>0.010640</td>\n",
       "    </tr>\n",
       "  </tbody>\n",
       "</table>\n",
       "</div>"
      ],
      "text/plain": [
       "           Stage I  Stage II  Stage III  Stage IV\n",
       "timeline                                         \n",
       "0.0       0.988095  0.981343   0.980583  0.936306\n",
       "1.0       0.948037  0.922006   0.927096  0.750109\n",
       "2.0       0.867921  0.858105   0.867667  0.590511\n",
       "3.0       0.841216  0.812461   0.814181  0.529332\n",
       "4.0       0.801158  0.789639   0.742866  0.457513\n",
       "5.0       0.747748  0.766817   0.736923  0.409634\n",
       "6.0       0.734395  0.730302   0.713151  0.345795\n",
       "7.0       0.680985  0.689222   0.653722  0.303235\n",
       "8.0       0.574163  0.534033   0.493263  0.234076\n",
       "9.0       0.413932  0.410795   0.380347  0.170237\n",
       "10.0      0.320463  0.333200   0.231774  0.122358\n",
       "11.0      0.253700  0.287556   0.184231  0.093099\n",
       "12.0      0.200290  0.205397   0.136687  0.069159\n",
       "13.0      0.120174  0.146060   0.077258  0.045219\n",
       "14.0      0.066763  0.073030   0.041600  0.018620\n",
       "15.0      0.000000  0.004564   0.011886  0.010640"
      ]
     },
     "execution_count": 79,
     "metadata": {},
     "output_type": "execute_result"
    }
   ],
   "source": [
    "df_stages_recurr=pd.merge(df2_s1,df2_s2,on='timeline')\n",
    "df_stages_recurr=pd.merge(df_stages_recurr,df2_s3,on='timeline')\n",
    "df_stages_recurr=pd.merge(df_stages_recurr,df2_s4,on='timeline')\n",
    "df_stages_recurr"
   ]
  },
  {
   "cell_type": "markdown",
   "id": "e84c2c7f-97a2-4791-9df4-bda1e2f48b88",
   "metadata": {},
   "source": [
    "## Conclusions"
   ]
  },
  {
   "cell_type": "markdown",
   "id": "11b94e67-0387-464a-ab7c-60af9c186a71",
   "metadata": {},
   "source": [
    "* The average age at diagnosis of prostate cancer in the sample was around 70 years.\n",
    "\n",
    "* Patients with stage IV disease have a median age of 72 years, while patients with stages I, II and III have a median age greater than 65 and less than 70 years.\n",
    "\n",
    "* The mean age at death of the patients in the sample who have died is around 5 years, which means that the majority, at least on average, live 5 years.\n",
    "\n",
    "* The average time of death of patients is around 5 years.\n",
    "\n",
    "* The median time of patients alive in 2020 is around 14-15 years.\n",
    "\n",
    "* More than 50% of the patients in the sample have been diagnosed with stage IV.\n",
    "\n",
    "\n",
    "* De la muestra de pacientes agrupados por estadío clínico, se pude observar:\n",
    "    * __Estadio I__: 78.57% de los pacientes esta vivo hasta el momento de la generación de la base de datos en 2020\n",
    "    * __Estadio II__: 72.76% de los pacientes esta vivo hasta el momento de la generación  de la base de datos en 2020\n",
    "    * __Estadio III__: 67.48% de los pacientes esta vivo hasta el momento de la generación de la base de datos en 2020\n",
    "    * __Estadio IV__: 22.93% de los pacientes esta vivo hasta el momento de la generación de la base de datos en 2020\n",
    "\n",
    "\n",
    "* Patients who have received radiotherapy, at least on average, have a longer average lifespan than those who have not received radiotherapy.\n",
    "\n",
    "\n",
    "* About the overall survival of the patients in the sample:\n",
    "    * The probability of survival of a patient in the first 5 years after being diagnosed is 0.97.\n",
    "    * The probability of survival of a patient between 5 and 10 years after diagnosis is 0.74\n",
    "    * The probability of survival of a patient between 10 and 15 years after diagnosis is 0.6\n",
    "    * The probability of survival of a patient between 15 and 20 years after diagnosis is 0.54\n",
    "    * The probability of survival of a patient more than 20 years after diagnosis is 0.49\n",
    "\n",
    "\n",
    "* About the survival grouped by stage of the patients in the sample:\n",
    "    * The 5-year survival probability of a patient presenting stage I is 0.89, while a patient presenting stage IV is 0.44.\n",
    "    * The 10-year survival probability of a patient presenting with stage I is 0.81, while a patient presenting with stage IV is 0.27.\n",
    "    * The 15-year survival probability for a patient presenting with stage I is 0.77, while a patient presenting with stage IV is 0.23.\n",
    "    * The 20-year survival probability for a patient presenting with stage I is 0.77, while a patient presenting with stage IV is 0.19.\n",
    "\n",
    "\n",
    "* The probability of survival of a patient with stage I, II and II is much higher than that of a patient with stage IV.\n",
    "\n",
    "* As the patient is diagnosed at an advanced stage of the disease, the probability of survival decreases dramatically.\n",
    "\n",
    "\n",
    "* On the survival of the sample grouped by those patients who received radiotherapy:\n",
    "    * The 5-year survival probability of a patient who received radiotherapy is 0.88, while that of a patient who did not receive is 0.58.\n",
    "    * The 10-year survival probability of a patient who received radiotherapy is 0.77, while that of a patient who did not receive is 0.43.\n",
    "    * The 15-year survival probability of a patient who received radiotherapy is 0.70, while that of a patient who did not receive is 0.38.\n",
    "    * The 20-year survival probability of a patient who received radiotherapy is 0.70, while that of a patient who did not receive is 0.34.\n",
    "\n",
    "\n",
    "* There is a large difference in the survival probability of patients who received radiotherapy, which varies greatly depending on those who did not receive this treatment.\n",
    "\n",
    "* About the recurrence of patients:\n",
    "    * 78.08% of patients present a recurrence of cancer during the study time.\n",
    "    * The probability that the disease does not recur in the first 5 years is 0.95\n",
    "    * The probability that the disease will not recur in the first 10 years is 0.62%.\n",
    "    * The probability that the disease does not recur in the first 15 years is 0.26\n",
    "    * The probability that the disease will not recur within the first 20 years is 0.03\n",
    "    * The probability that the disease will not recur in the first 20 years is 0.01.\n",
    "    \n",
    "* The probability of non-recurrence in patients with stage IV is much lower than in those with stages I, II and III, but the probability of these stages decreasing together after 10 years, with stages I and II being very similar.\n",
    "\n"
   ]
  }
 ],
 "metadata": {
  "kernelspec": {
   "display_name": "Python 3 (ipykernel)",
   "language": "python",
   "name": "python3"
  },
  "language_info": {
   "codemirror_mode": {
    "name": "ipython",
    "version": 3
   },
   "file_extension": ".py",
   "mimetype": "text/x-python",
   "name": "python",
   "nbconvert_exporter": "python",
   "pygments_lexer": "ipython3",
   "version": "3.8.10"
  }
 },
 "nbformat": 4,
 "nbformat_minor": 5
}
